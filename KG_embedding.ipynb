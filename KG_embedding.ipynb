{
  "nbformat": 4,
  "nbformat_minor": 0,
  "metadata": {
    "colab": {
      "name": "KG embedding.ipynb",
      "provenance": [],
      "authorship_tag": "ABX9TyNvz0WR4cPn8ynoPeAgVMS+",
      "include_colab_link": true
    },
    "kernelspec": {
      "name": "python3",
      "display_name": "Python 3"
    }
  },
  "cells": [
    {
      "cell_type": "markdown",
      "metadata": {
        "id": "view-in-github",
        "colab_type": "text"
      },
      "source": [
        "<a href=\"https://colab.research.google.com/github/tldtldcpfl/JoChaeRin/blob/master/KG_embedding.ipynb\" target=\"_parent\"><img src=\"https://colab.research.google.com/assets/colab-badge.svg\" alt=\"Open In Colab\"/></a>"
      ]
    },
    {
      "cell_type": "markdown",
      "metadata": {
        "id": "BqlfYkPT2K93",
        "colab_type": "text"
      },
      "source": [
        "지식그래프 임베딩\n",
        "\n",
        "- WordNet을 이용하여 단어를 생성하고 임베딩을 진행한다.\n",
        "\n",
        "\n"
      ]
    },
    {
      "cell_type": "markdown",
      "metadata": {
        "id": "abdriubr2zdb",
        "colab_type": "text"
      },
      "source": [
        "scikit-kge를 설치한다. "
      ]
    },
    {
      "cell_type": "code",
      "metadata": {
        "id": "WwFFyHtf2OqA",
        "colab_type": "code",
        "colab": {
          "base_uri": "https://localhost:8080/",
          "height": 125
        },
        "outputId": "f941c246-274a-46bd-eee1-efada18a288d"
      },
      "source": [
        "# make sure we are in the right folder to perform the git clone\n",
        "%cd /content/\n",
        "!git clone https://github.com/hybridNLP2018/scikit-kge"
      ],
      "execution_count": null,
      "outputs": [
        {
          "output_type": "stream",
          "text": [
            "/content\n",
            "Cloning into 'scikit-kge'...\n",
            "remote: Enumerating objects: 116, done.\u001b[K\n",
            "remote: Total 116 (delta 0), reused 0 (delta 0), pack-reused 116\u001b[K\n",
            "Receiving objects: 100% (116/116), 25.32 KiB | 2.53 MiB/s, done.\n",
            "Resolving deltas: 100% (51/51), done.\n"
          ],
          "name": "stdout"
        }
      ]
    },
    {
      "cell_type": "code",
      "metadata": {
        "id": "kPu0Fa2_2w0d",
        "colab_type": "code",
        "colab": {
          "base_uri": "https://localhost:8080/",
          "height": 1000
        },
        "outputId": "ee319bc5-82c8-4063-c59b-b08b2e891b25"
      },
      "source": [
        "%cd scikit-kge\n",
        "# install a dependency of scikit-kge on the colaboratory environment, needed to correclty build scikit-kge\n",
        "!pip install nose\n",
        "# now build a source distribution for the project\n",
        "!python setup.py sdist"
      ],
      "execution_count": null,
      "outputs": [
        {
          "output_type": "stream",
          "text": [
            "/content/scikit-kge\n",
            "Collecting nose\n",
            "\u001b[?25l  Downloading https://files.pythonhosted.org/packages/15/d8/dd071918c040f50fa1cf80da16423af51ff8ce4a0f2399b7bf8de45ac3d9/nose-1.3.7-py3-none-any.whl (154kB)\n",
            "\u001b[K     |████████████████████████████████| 163kB 2.8MB/s \n",
            "\u001b[?25hInstalling collected packages: nose\n",
            "Successfully installed nose-1.3.7\n",
            "setuptools module not found.\n",
            "Install setuptools if you want to enable 'python setup.py develop'.\n",
            "\u001b[39mrunning sdist\u001b[0m\n",
            "\u001b[39mrunning egg_info\u001b[0m\n",
            "/usr/lib/python3.6/distutils/dist.py:974: UserWarning: \n",
            "`build_src` is being run, this may lead to missing\n",
            "files in your sdist!  You want to use distutils.sdist\n",
            "instead of the setuptools version:\n",
            "\n",
            "    from distutils.command.sdist import sdist\n",
            "    cmdclass={'sdist': sdist}\"\n",
            "\n",
            "See numpy's setup.py or gh-7131 for details.\n",
            "  cmd_obj.run()\n",
            "\u001b[39mrunning build_src\u001b[0m\n",
            "\u001b[39mbuild_src\u001b[0m\n",
            "\u001b[39mcreating scikit_kge.egg-info\u001b[0m\n",
            "\u001b[39mwriting scikit_kge.egg-info/PKG-INFO\u001b[0m\n",
            "\u001b[39mwriting dependency_links to scikit_kge.egg-info/dependency_links.txt\u001b[0m\n",
            "\u001b[39mwriting top-level names to scikit_kge.egg-info/top_level.txt\u001b[0m\n",
            "\u001b[39mwriting manifest file 'scikit_kge.egg-info/SOURCES.txt'\u001b[0m\n",
            "\u001b[39mwriting manifest file 'scikit_kge.egg-info/SOURCES.txt'\u001b[0m\n",
            "\u001b[39mrunning check\u001b[0m\n",
            "\u001b[39mcreating scikit-kge-0.1\u001b[0m\n",
            "\u001b[39mcreating scikit-kge-0.1/skge\u001b[0m\n",
            "\u001b[39mcreating scikit-kge-0.1/scikit_kge.egg-info\u001b[0m\n",
            "\u001b[39mcopying files to scikit-kge-0.1...\u001b[0m\n",
            "\u001b[39mcopying LICENSE -> scikit-kge-0.1\u001b[0m\n",
            "\u001b[39mcopying README.md -> scikit-kge-0.1\u001b[0m\n",
            "\u001b[39mcopying setup.py -> scikit-kge-0.1\u001b[0m\n",
            "\u001b[39mcopying ./skge/__init__.py -> scikit-kge-0.1/./skge\u001b[0m\n",
            "\u001b[39mcopying ./skge/actfun.py -> scikit-kge-0.1/./skge\u001b[0m\n",
            "\u001b[39mcopying ./skge/base.py -> scikit-kge-0.1/./skge\u001b[0m\n",
            "\u001b[39mcopying ./skge/hole.py -> scikit-kge-0.1/./skge\u001b[0m\n",
            "\u001b[39mcopying ./skge/param.py -> scikit-kge-0.1/./skge\u001b[0m\n",
            "\u001b[39mcopying ./skge/rescal.py -> scikit-kge-0.1/./skge\u001b[0m\n",
            "\u001b[39mcopying ./skge/sample.py -> scikit-kge-0.1/./skge\u001b[0m\n",
            "\u001b[39mcopying ./skge/transe.py -> scikit-kge-0.1/./skge\u001b[0m\n",
            "\u001b[39mcopying ./skge/util.py -> scikit-kge-0.1/./skge\u001b[0m\n",
            "\u001b[39mcopying ./skge/version.py -> scikit-kge-0.1/./skge\u001b[0m\n",
            "\u001b[39mcopying scikit_kge.egg-info/PKG-INFO -> scikit-kge-0.1/scikit_kge.egg-info\u001b[0m\n",
            "\u001b[39mcopying scikit_kge.egg-info/SOURCES.txt -> scikit-kge-0.1/scikit_kge.egg-info\u001b[0m\n",
            "\u001b[39mcopying scikit_kge.egg-info/dependency_links.txt -> scikit-kge-0.1/scikit_kge.egg-info\u001b[0m\n",
            "\u001b[39mcopying scikit_kge.egg-info/top_level.txt -> scikit-kge-0.1/scikit_kge.egg-info\u001b[0m\n",
            "\u001b[39mWriting scikit-kge-0.1/setup.cfg\u001b[0m\n",
            "\u001b[39mcreating dist\u001b[0m\n",
            "\u001b[39mCreating tar archive\u001b[0m\n",
            "\u001b[39mremoving 'scikit-kge-0.1' (and everything under it)\u001b[0m\n"
          ],
          "name": "stdout"
        }
      ]
    },
    {
      "cell_type": "code",
      "metadata": {
        "id": "EfS1pmcF26FC",
        "colab_type": "code",
        "colab": {
          "base_uri": "https://localhost:8080/",
          "height": 35
        },
        "outputId": "68641d49-9106-4b33-c232-9e0dd6e120b5"
      },
      "source": [
        "!ls dist/"
      ],
      "execution_count": null,
      "outputs": [
        {
          "output_type": "stream",
          "text": [
            "scikit-kge-0.1.tar.gz\n"
          ],
          "name": "stdout"
        }
      ]
    },
    {
      "cell_type": "code",
      "metadata": {
        "id": "l7s4bfCr28k2",
        "colab_type": "code",
        "colab": {
          "base_uri": "https://localhost:8080/",
          "height": 199
        },
        "outputId": "ee79b519-4273-4c62-8395-b76162caf347"
      },
      "source": [
        "!pip install dist/scikit-kge-0.1.tar.gz\n",
        "%cd /content"
      ],
      "execution_count": null,
      "outputs": [
        {
          "output_type": "stream",
          "text": [
            "Processing ./dist/scikit-kge-0.1.tar.gz\n",
            "Building wheels for collected packages: scikit-kge\n",
            "  Building wheel for scikit-kge (setup.py) ... \u001b[?25l\u001b[?25hdone\n",
            "  Created wheel for scikit-kge: filename=scikit_kge-0.1-cp36-none-any.whl size=12515 sha256=c21269f9d7057849bd34f4475fe020983917525b297a27e21827e33549c39be7\n",
            "  Stored in directory: /root/.cache/pip/wheels/fb/75/c7/6e9f169770d70852cb44e65ddc7a7ac93c2dfba1ebee685b17\n",
            "Successfully built scikit-kge\n",
            "Installing collected packages: scikit-kge\n",
            "Successfully installed scikit-kge-0.1\n",
            "/content\n"
          ],
          "name": "stdout"
        }
      ]
    },
    {
      "cell_type": "code",
      "metadata": {
        "id": "ttSaPpbO2-fY",
        "colab_type": "code",
        "colab": {
          "base_uri": "https://localhost:8080/",
          "height": 107
        },
        "outputId": "27b30204-2644-405d-8bc5-7ea1a6d9ffb9"
      },
      "source": [
        "# let's go back to the main \\content folder and clone the holE repo\n",
        "%cd /content/\n",
        "!git clone https://github.com/mnick/holographic-embeddings"
      ],
      "execution_count": null,
      "outputs": [
        {
          "output_type": "stream",
          "text": [
            "/content\n",
            "Cloning into 'holographic-embeddings'...\n",
            "remote: Enumerating objects: 37, done.\u001b[K\n",
            "remote: Total 37 (delta 0), reused 0 (delta 0), pack-reused 37\u001b[K\n",
            "Unpacking objects: 100% (37/37), done.\n"
          ],
          "name": "stdout"
        }
      ]
    },
    {
      "cell_type": "code",
      "metadata": {
        "id": "IgNQqZXy3AhI",
        "colab_type": "code",
        "colab": {}
      },
      "source": [
        "%less holographic-embeddings/run_hole_wn18.sh"
      ],
      "execution_count": null,
      "outputs": []
    },
    {
      "cell_type": "markdown",
      "metadata": {
        "id": "8w_IhmWO3Gll",
        "colab_type": "text"
      },
      "source": [
        "graph를 serialized python 딕셔너리 형태로 바꾼다. "
      ]
    },
    {
      "cell_type": "code",
      "metadata": {
        "id": "9WydP0kC3FVr",
        "colab_type": "code",
        "colab": {
          "base_uri": "https://localhost:8080/",
          "height": 107
        },
        "outputId": "5b495a05-dd99-4a00-a4b3-b965fd5d2833"
      },
      "source": [
        "import pickle\n",
        "import os\n",
        "\n",
        "with open('holographic-embeddings/data/wn18.bin', 'rb') as fin:\n",
        "  wn18_data = pickle.load(fin)\n",
        "\n",
        "for k in wn18_data:\n",
        "  print(k, type(wn18_data[k]), len(wn18_data[k]), wn18_data[k][-3:])"
      ],
      "execution_count": null,
      "outputs": [
        {
          "output_type": "stream",
          "text": [
            "relations <class 'list'> 18 ['_synset_domain_region_of', '_verb_group', '_similar_to']\n",
            "train_subs <class 'list'> 141442 [(5395, 37068, 9), (5439, 35322, 11), (28914, 1188, 10)]\n",
            "entities <class 'list'> 40943 ['01164618', '02371344', '03788703']\n",
            "test_subs <class 'list'> 5000 [(17206, 33576, 0), (1179, 11861, 0), (30287, 1443, 1)]\n",
            "valid_subs <class 'list'> 5000 [(351, 25434, 0), (3951, 2114, 7), (756, 14490, 0)]\n"
          ],
          "name": "stdout"
        }
      ]
    },
    {
      "cell_type": "code",
      "metadata": {
        "id": "ZKFxhBdR3X7x",
        "colab_type": "code",
        "colab": {
          "base_uri": "https://localhost:8080/",
          "height": 71
        },
        "outputId": "3f06455b-4ded-4377-a863-0abbe629f71c"
      },
      "source": [
        "import nltk\n",
        "nltk.download('wordnet')"
      ],
      "execution_count": null,
      "outputs": [
        {
          "output_type": "stream",
          "text": [
            "[nltk_data] Downloading package wordnet to /root/nltk_data...\n",
            "[nltk_data]   Unzipping corpora/wordnet.zip.\n"
          ],
          "name": "stdout"
        },
        {
          "output_type": "execute_result",
          "data": {
            "text/plain": [
              "True"
            ]
          },
          "metadata": {
            "tags": []
          },
          "execution_count": 8
        }
      ]
    },
    {
      "cell_type": "code",
      "metadata": {
        "id": "AeZHFsmS3wme",
        "colab_type": "code",
        "colab": {}
      },
      "source": [
        "from nltk.corpus import wordnet as wn"
      ],
      "execution_count": null,
      "outputs": []
    },
    {
      "cell_type": "code",
      "metadata": {
        "id": "SyTC2MjO3yKF",
        "colab_type": "code",
        "colab": {
          "base_uri": "https://localhost:8080/",
          "height": 161
        },
        "outputId": "6a9b43fc-7fb3-49b7-8d10-a3a9c5e1dc3a"
      },
      "source": [
        "wn.synsets('dog')"
      ],
      "execution_count": null,
      "outputs": [
        {
          "output_type": "execute_result",
          "data": {
            "text/plain": [
              "[Synset('dog.n.01'),\n",
              " Synset('frump.n.01'),\n",
              " Synset('dog.n.03'),\n",
              " Synset('cad.n.01'),\n",
              " Synset('frank.n.02'),\n",
              " Synset('pawl.n.01'),\n",
              " Synset('andiron.n.01'),\n",
              " Synset('chase.v.01')]"
            ]
          },
          "metadata": {
            "tags": []
          },
          "execution_count": 13
        }
      ]
    },
    {
      "cell_type": "code",
      "metadata": {
        "id": "0QSY2B4G30c0",
        "colab_type": "code",
        "colab": {
          "base_uri": "https://localhost:8080/",
          "height": 107
        },
        "outputId": "d557c623-d36a-443f-ce32-38dbb8cb51cc"
      },
      "source": [
        "for synset in list(wn.all_synsets())[:5]:\n",
        "    print(synset.name())"
      ],
      "execution_count": null,
      "outputs": [
        {
          "output_type": "stream",
          "text": [
            "able.a.01\n",
            "unable.a.01\n",
            "abaxial.a.01\n",
            "adaxial.a.01\n",
            "acroscopic.a.01\n"
          ],
          "name": "stdout"
        }
      ]
    },
    {
      "cell_type": "code",
      "metadata": {
        "id": "NvIVbnG934yl",
        "colab_type": "code",
        "colab": {
          "base_uri": "https://localhost:8080/",
          "height": 107
        },
        "outputId": "75746b59-e792-4253-d058-5e28cf3933c1"
      },
      "source": [
        "for lemma in list(wn.all_lemma_names())[5000:5005]:\n",
        "    print(lemma)"
      ],
      "execution_count": null,
      "outputs": [
        {
          "output_type": "stream",
          "text": [
            "cystic\n",
            "cytoarchitectonic\n",
            "cytoarchitectural\n",
            "cytogenetic\n",
            "cytogenetical\n"
          ],
          "name": "stdout"
        }
      ]
    },
    {
      "cell_type": "code",
      "metadata": {
        "id": "6hmzZzRF36ea",
        "colab_type": "code",
        "colab": {
          "base_uri": "https://localhost:8080/",
          "height": 35
        },
        "outputId": "c25875a9-dfae-4086-ec75-06b82e2dde89"
      },
      "source": [
        "wn.synset('adaxial.a.01').topic_domains()"
      ],
      "execution_count": null,
      "outputs": [
        {
          "output_type": "execute_result",
          "data": {
            "text/plain": [
              "[Synset('biology.n.01')]"
            ]
          },
          "metadata": {
            "tags": []
          },
          "execution_count": 16
        }
      ]
    },
    {
      "cell_type": "code",
      "metadata": {
        "id": "DA3pJk7p371L",
        "colab_type": "code",
        "colab": {
          "base_uri": "https://localhost:8080/",
          "height": 35
        },
        "outputId": "4f5214cf-fbe4-4900-a24b-003a50abe63c"
      },
      "source": [
        "wn.synset('adaxial.a.01').lemmas()"
      ],
      "execution_count": null,
      "outputs": [
        {
          "output_type": "execute_result",
          "data": {
            "text/plain": [
              "[Lemma('adaxial.a.01.adaxial'), Lemma('adaxial.a.01.ventral')]"
            ]
          },
          "metadata": {
            "tags": []
          },
          "execution_count": 17
        }
      ]
    },
    {
      "cell_type": "code",
      "metadata": {
        "id": "bZG7RCg2398A",
        "colab_type": "code",
        "colab": {
          "base_uri": "https://localhost:8080/",
          "height": 35
        },
        "outputId": "f4a97b44-9a87-426d-8a68-e8adbba3ec43"
      },
      "source": [
        "wn.synset('adaxial.a.01').lemma_names()"
      ],
      "execution_count": null,
      "outputs": [
        {
          "output_type": "execute_result",
          "data": {
            "text/plain": [
              "['adaxial', 'ventral']"
            ]
          },
          "metadata": {
            "tags": []
          },
          "execution_count": 18
        }
      ]
    },
    {
      "cell_type": "code",
      "metadata": {
        "id": "dylb_XVf4Bh8",
        "colab_type": "code",
        "colab": {}
      },
      "source": [
        "syn_relations = {\n",
        "    'hyponym': lambda syn: syn.hyponyms(), \n",
        "    'instance_hyponym': lambda syn: syn.instance_hyponyms(),  \n",
        "    'member_meronym': lambda syn: syn.member_meronyms(),\n",
        "    'has_part': lambda syn: syn.part_meronyms(), \n",
        "    'topic_domain': lambda syn: syn.topic_domains(), \n",
        "    'usage_domain': lambda syn: syn.usage_domains(), \n",
        "    '_member_of_domain_region': lambda syn: syn.region_domains(),\n",
        "    'attribute': lambda syn: syn.attributes(),\n",
        "    'entailment': lambda syn: syn.entailments(),\n",
        "    'cause': lambda syn: syn.causes(),\n",
        "    'also_see': lambda syn: syn.also_sees(),\n",
        "    'verb_group': lambda syn: syn.verb_groups(),\n",
        "    'similar_to': lambda syn: syn.similar_tos()\n",
        "}\n",
        "lem_relations = {\n",
        "    'antonym': lambda lem: lem.antonyms(),\n",
        "    'derivationally_related_form': lambda lem: lem.derivationally_related_forms(),\n",
        "    'pertainym': lambda lem: lem.pertainyms()\n",
        "}\n",
        "\n",
        "syn2lem_relations = {\n",
        "    'lemma': lambda syn: syn.lemma_names()\n",
        "}"
      ],
      "execution_count": null,
      "outputs": []
    },
    {
      "cell_type": "code",
      "metadata": {
        "id": "zWzUiGx04DkU",
        "colab_type": "code",
        "colab": {}
      },
      "source": [
        "def generate_syn_triples(entity_id_map, rel_id_map):\n",
        "  result = []\n",
        "  for synset in list(wn.all_synsets()):\n",
        "    h_id = entity_id_map.get(synset.name())\n",
        "    if h_id is None:\n",
        "      print('No entity id for ', synset)\n",
        "      continue\n",
        "    for synrel, srfn in syn_relations.items():\n",
        "      r_id = rel_id_map.get(synrel)\n",
        "      if r_id is None:\n",
        "        print('No rel id for', synrel)\n",
        "        continue\n",
        "      for obj in srfn(synset):  \n",
        "        t_id = entity_id_map.get(obj.name())\n",
        "        if t_id is None:\n",
        "          print('No entity id for object', obj)\n",
        "          continue\n",
        "        result.append((h_id, t_id, r_id))\n",
        "    \n",
        "    for rel, fn in syn2lem_relations.items():\n",
        "      r_id = rel_id_map.get(rel)\n",
        "      if r_id is None:\n",
        "        print('No rel id for', rel)\n",
        "        continue\n",
        "      for obj in fn(synset):\n",
        "        lem = obj.lower()\n",
        "        t_id = entity_id_map.get(lem)\n",
        "        if t_id is None:\n",
        "          print('No entity id for object', obj, 'lowercased:', lem)\n",
        "          continue\n",
        "        result.append((h_id, t_id, r_id))\n",
        "  return result"
      ],
      "execution_count": null,
      "outputs": []
    },
    {
      "cell_type": "code",
      "metadata": {
        "id": "imuFM7AZ4HIB",
        "colab_type": "code",
        "colab": {}
      },
      "source": [
        "def generate_lem_triples(entity_id_map, rel_id_map):\n",
        "  result = []\n",
        "  for lemma in list(wn.all_lemma_names()):\n",
        "    h_id = entity_id_map.get(lemma)\n",
        "    if h_id is None:\n",
        "      print('No entity id for lemma', lemma)\n",
        "      continue\n",
        "    _lems = wn.lemmas(lemma)\n",
        "    for lemrel, lrfn in lem_relations.items():\n",
        "      r_id = rel_id_map.get(lemrel)\n",
        "      if r_id is None:\n",
        "        print('No rel id for ', lemrel)\n",
        "        continue\n",
        "      for _lem in _lems:\n",
        "        for obj in lrfn(_lem):\n",
        "          t_id = entity_id_map.get(obj.name().lower())\n",
        "          if t_id is None:\n",
        "            print('No entity id for obj lemma', obj, obj.name())\n",
        "            continue\n",
        "          result.append((h_id, t_id, r_id))\n",
        "  return result"
      ],
      "execution_count": null,
      "outputs": []
    },
    {
      "cell_type": "code",
      "metadata": {
        "id": "p99C1MTH4Jyq",
        "colab_type": "code",
        "colab": {}
      },
      "source": [
        "import random # for shuffling list of triples\n",
        "      \n",
        "def wnet30_holE_bin(out):\n",
        "  \"\"\"Creates a skge-compatible bin file for training HolE embeddings based on WordNet31\"\"\"\n",
        "  synsets = [synset.name() for synset in wn.all_synsets()]\n",
        "  lemmas = [lemma for lemma in wn.all_lemma_names()]\n",
        "  entities = list(synsets + list(set(lemmas)))\n",
        "  print('Found %s synsets, %s lemmas, hence %s entities' % (len(synsets), len(lemmas), len(entities)))\n",
        "  entity_id_map = {ent_name: id for id, ent_name in enumerate(entities)}\n",
        "  n_entity = len(entity_id_map)\n",
        "    \n",
        "  print(\"N_ENTITY: %d\" % n_entity)\n",
        "    \n",
        "  relations = list( list(syn_relations.keys()) + list(lem_relations.keys()) + list(syn2lem_relations.keys()))\n",
        "  relation_id_map = {rel_name: id for id, rel_name in enumerate(relations)}\n",
        "  n_rel = len(relation_id_map)\n",
        "    \n",
        "  print(\"N_REL: %d\" % n_rel)\n",
        "  print('relations', relation_id_map)\n",
        "    \n",
        "  syn_triples = generate_syn_triples(entity_id_map, relation_id_map)\n",
        "  print(\"Syn2syn relations\", len(syn_triples))\n",
        "  lem_triples = generate_lem_triples(entity_id_map, relation_id_map)\n",
        "  print(\"Lem2lem relations\", len(lem_triples))\n",
        "  all_triples = syn_triples + lem_triples\n",
        "  print(\"All triples\", len(all_triples))\n",
        "  random.shuffle(all_triples)\n",
        "    \n",
        "  test_triple = all_triples[:500]\n",
        "  valid_triple = all_triples[500:1000]\n",
        "  train_triple = all_triples[1000:]\n",
        "        \n",
        "  to_pickle = {\n",
        "      \"entities\": entities,\n",
        "      \"relations\": relations,\n",
        "      \"train_subs\": train_triple,\n",
        "      \"test_subs\": test_triple,\n",
        "      \"valid_subs\": valid_triple\n",
        "  }\n",
        "    \n",
        "  with open(out, 'wb') as handle:\n",
        "    pickle.dump(to_pickle, handle, protocol=pickle.HIGHEST_PROTOCOL)\n",
        "        \n",
        "  print(\"wrote to %s\" % out)"
      ],
      "execution_count": null,
      "outputs": []
    },
    {
      "cell_type": "code",
      "metadata": {
        "id": "CfocSi0Q5ZD9",
        "colab_type": "code",
        "colab": {
          "base_uri": "https://localhost:8080/",
          "height": 35
        },
        "outputId": "7a340650-6785-4ebc-d0c2-3fa6de155faa"
      },
      "source": [
        "with open('/content/holographic-embeddings/data/wn30.bin', 'rb') as fin:\n",
        "  wn30_data = pickle.load(fin)\n",
        "entities = wn30_data['entities']\n",
        "len(entities)"
      ],
      "execution_count": null,
      "outputs": [
        {
          "output_type": "execute_result",
          "data": {
            "text/plain": [
              "264965"
            ]
          },
          "metadata": {
            "tags": []
          },
          "execution_count": 17
        }
      ]
    }
  ]
}