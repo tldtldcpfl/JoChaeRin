{
  "nbformat": 4,
  "nbformat_minor": 0,
  "metadata": {
    "colab": {
      "name": "cancer-로짓회귀.ipynb",
      "provenance": [],
      "collapsed_sections": [],
      "authorship_tag": "ABX9TyMbTYunA0eBJ/jVifTJAerm",
      "include_colab_link": true
    },
    "kernelspec": {
      "name": "python3",
      "display_name": "Python 3"
    },
    "language_info": {
      "name": "python"
    },
    "accelerator": "GPU"
  },
  "cells": [
    {
      "cell_type": "markdown",
      "metadata": {
        "id": "view-in-github",
        "colab_type": "text"
      },
      "source": [
        "<a href=\"https://colab.research.google.com/github/tldtldcpfl/JoChaeRin/blob/master/cancer_%EB%A1%9C%EC%A7%93%ED%9A%8C%EA%B7%80.ipynb\" target=\"_parent\"><img src=\"https://colab.research.google.com/assets/colab-badge.svg\" alt=\"Open In Colab\"/></a>"
      ]
    },
    {
      "cell_type": "markdown",
      "metadata": {
        "id": "dD5SqsskZbmm"
      },
      "source": [
        "설명\n",
        "- dataset : cancer genetic mutations (암유전적 변이)\n",
        "\n",
        "- training_text 데이터는 gene, variation, class로 구성돼어있다. \n",
        "\n",
        "- model:  로지스틱 회귀 모델 (ml알고리즘)을 통해 데이터의 class를 분류한다.\n",
        "\n",
        "\n",
        "- evaluation:  모델의 분류 정확도는 54%로 낮은 성능을 보였다."
      ]
    },
    {
      "cell_type": "code",
      "metadata": {
        "id": "v4bHKpJnZdpb"
      },
      "source": [
        "import pandas as pd\n",
        "import matplotlib.pyplot as plt\n",
        "import re\n",
        "import time\n",
        "import warnings\n",
        "import numpy as np\n",
        "from nltk.corpus import stopwords\n",
        "from sklearn.decomposition import TruncatedSVD\n",
        "from sklearn.preprocessing import normalize\n",
        "from sklearn.feature_extraction.text import CountVectorizer\n",
        "from sklearn.manifold import TSNE\n",
        "import seaborn as sns\n",
        "from sklearn.neighbors import KNeighborsClassifier\n",
        "from sklearn.metrics import confusion_matrix\n",
        "from sklearn.metrics import accuracy_score, log_loss\n",
        "from sklearn.feature_extraction.text import TfidfVectorizer\n",
        "from sklearn.linear_model import SGDClassifier\n",
        "from imblearn.over_sampling import SMOTE\n",
        "from collections import Counter\n",
        "from scipy.sparse import hstack\n",
        "from sklearn.multiclass import OneVsRestClassifier\n",
        "from sklearn.svm import SVC\n",
        "#from sklearn.cross_validation import StratifiedKFold \n",
        "from collections import Counter, defaultdict\n",
        "from sklearn.calibration import CalibratedClassifierCV\n",
        "from sklearn.naive_bayes import MultinomialNB\n",
        "from sklearn.naive_bayes import GaussianNB\n",
        "from sklearn.model_selection import train_test_split\n",
        "from sklearn.model_selection import GridSearchCV\n",
        "import math\n",
        "from sklearn.metrics import normalized_mutual_info_score\n",
        "from sklearn.ensemble import RandomForestClassifier\n",
        "warnings.filterwarnings(\"ignore\")\n",
        "import nltk\n",
        "from mlxtend.classifier import StackingClassifier\n",
        "\n",
        "from sklearn import model_selection\n",
        "from sklearn.linear_model import LogisticRegression\n",
        "\n",
        "import numpy as np # linear algebra\n",
        "import pandas as pd # data processing, CSV file I/O (e.g. pd.read_csv)\n",
        "\n",
        "# Input data files are available in the read-only \"../input/\" directory\n",
        "# For example, running this (by clicking run or pressing Shift+Enter) will list all files under the input directory\n",
        "\n",
        "import os\n",
        "for dirname, _, filenames in os.walk('/kaggle/input'):\n",
        "    for filename in filenames:\n",
        "        print(os.path.join(dirname, filename))"
      ],
      "execution_count": null,
      "outputs": []
    },
    {
      "cell_type": "code",
      "metadata": {
        "id": "iuxcLJGjSC6g"
      },
      "source": [
        "df_tab = pd.read_csv('/content/training_variants')"
      ],
      "execution_count": 2,
      "outputs": []
    },
    {
      "cell_type": "code",
      "metadata": {
        "colab": {
          "base_uri": "https://localhost:8080/",
          "height": 200
        },
        "id": "S_Rk1ikTSci_",
        "outputId": "0c36b413-f8d1-41b9-bfdb-877129f94416"
      },
      "source": [
        "df_tab.head()"
      ],
      "execution_count": 4,
      "outputs": [
        {
          "output_type": "execute_result",
          "data": {
            "text/html": [
              "<div>\n",
              "<style scoped>\n",
              "    .dataframe tbody tr th:only-of-type {\n",
              "        vertical-align: middle;\n",
              "    }\n",
              "\n",
              "    .dataframe tbody tr th {\n",
              "        vertical-align: top;\n",
              "    }\n",
              "\n",
              "    .dataframe thead th {\n",
              "        text-align: right;\n",
              "    }\n",
              "</style>\n",
              "<table border=\"1\" class=\"dataframe\">\n",
              "  <thead>\n",
              "    <tr style=\"text-align: right;\">\n",
              "      <th></th>\n",
              "      <th>ID</th>\n",
              "      <th>Gene</th>\n",
              "      <th>Variation</th>\n",
              "      <th>Class</th>\n",
              "    </tr>\n",
              "  </thead>\n",
              "  <tbody>\n",
              "    <tr>\n",
              "      <th>0</th>\n",
              "      <td>0</td>\n",
              "      <td>FAM58A</td>\n",
              "      <td>Truncating Mutations</td>\n",
              "      <td>1</td>\n",
              "    </tr>\n",
              "    <tr>\n",
              "      <th>1</th>\n",
              "      <td>1</td>\n",
              "      <td>CBL</td>\n",
              "      <td>W802*</td>\n",
              "      <td>2</td>\n",
              "    </tr>\n",
              "    <tr>\n",
              "      <th>2</th>\n",
              "      <td>2</td>\n",
              "      <td>CBL</td>\n",
              "      <td>Q249E</td>\n",
              "      <td>2</td>\n",
              "    </tr>\n",
              "    <tr>\n",
              "      <th>3</th>\n",
              "      <td>3</td>\n",
              "      <td>CBL</td>\n",
              "      <td>N454D</td>\n",
              "      <td>3</td>\n",
              "    </tr>\n",
              "    <tr>\n",
              "      <th>4</th>\n",
              "      <td>4</td>\n",
              "      <td>CBL</td>\n",
              "      <td>L399V</td>\n",
              "      <td>4</td>\n",
              "    </tr>\n",
              "  </tbody>\n",
              "</table>\n",
              "</div>"
            ],
            "text/plain": [
              "   ID    Gene             Variation  Class\n",
              "0   0  FAM58A  Truncating Mutations      1\n",
              "1   1     CBL                 W802*      2\n",
              "2   2     CBL                 Q249E      2\n",
              "3   3     CBL                 N454D      3\n",
              "4   4     CBL                 L399V      4"
            ]
          },
          "metadata": {
            "tags": []
          },
          "execution_count": 4
        }
      ]
    },
    {
      "cell_type": "code",
      "metadata": {
        "colab": {
          "base_uri": "https://localhost:8080/"
        },
        "id": "5GFdeLecSeL6",
        "outputId": "f299f3e8-6737-4e0e-c6c7-828d7237991e"
      },
      "source": [
        "df_tab.shape"
      ],
      "execution_count": 5,
      "outputs": [
        {
          "output_type": "execute_result",
          "data": {
            "text/plain": [
              "(3321, 4)"
            ]
          },
          "metadata": {
            "tags": []
          },
          "execution_count": 5
        }
      ]
    },
    {
      "cell_type": "code",
      "metadata": {
        "colab": {
          "base_uri": "https://localhost:8080/"
        },
        "id": "y_5THbKiSkRs",
        "outputId": "3eaf8b57-c36e-40bd-f2ed-c7bd7f453ef0"
      },
      "source": [
        "# Count of Unique Values of Gene\n",
        "df_tab[\"Gene\"].value_counts()"
      ],
      "execution_count": 6,
      "outputs": [
        {
          "output_type": "execute_result",
          "data": {
            "text/plain": [
              "BRCA1     264\n",
              "TP53      163\n",
              "EGFR      141\n",
              "PTEN      126\n",
              "BRCA2     125\n",
              "         ... \n",
              "CTLA4       1\n",
              "KDM5A       1\n",
              "RAD51B      1\n",
              "PIK3R3      1\n",
              "STAG2       1\n",
              "Name: Gene, Length: 264, dtype: int64"
            ]
          },
          "metadata": {
            "tags": []
          },
          "execution_count": 6
        }
      ]
    },
    {
      "cell_type": "code",
      "metadata": {
        "colab": {
          "base_uri": "https://localhost:8080/"
        },
        "id": "X8vqaLrlSnN3",
        "outputId": "8d8439f6-f549-45f5-b39d-cee5f1d6d294"
      },
      "source": [
        "# Count of Unique Values of Variation\n",
        "df_tab[\"Variation\"].value_counts()"
      ],
      "execution_count": 7,
      "outputs": [
        {
          "output_type": "execute_result",
          "data": {
            "text/plain": [
              "Truncating Mutations    93\n",
              "Deletion                74\n",
              "Amplification           71\n",
              "Fusions                 34\n",
              "Overexpression           6\n",
              "                        ..\n",
              "S252W                    1\n",
              "M541L                    1\n",
              "ETV6-PDGFRB Fusion       1\n",
              "N319D                    1\n",
              "S170R                    1\n",
              "Name: Variation, Length: 2996, dtype: int64"
            ]
          },
          "metadata": {
            "tags": []
          },
          "execution_count": 7
        }
      ]
    },
    {
      "cell_type": "code",
      "metadata": {
        "colab": {
          "base_uri": "https://localhost:8080/"
        },
        "id": "UdiIntx7SsuG",
        "outputId": "d96a87c4-945f-4326-87ee-529e41703e90"
      },
      "source": [
        "# Count of Unique Values of Class\n",
        "df_tab[\"Class\"].value_counts()"
      ],
      "execution_count": 8,
      "outputs": [
        {
          "output_type": "execute_result",
          "data": {
            "text/plain": [
              "7    953\n",
              "4    686\n",
              "1    568\n",
              "2    452\n",
              "6    275\n",
              "5    242\n",
              "3     89\n",
              "9     37\n",
              "8     19\n",
              "Name: Class, dtype: int64"
            ]
          },
          "metadata": {
            "tags": []
          },
          "execution_count": 8
        }
      ]
    },
    {
      "cell_type": "code",
      "metadata": {
        "colab": {
          "base_uri": "https://localhost:8080/"
        },
        "id": "aQYIExpiSukk",
        "outputId": "1bf5c0f3-92fd-48ab-e62c-2ee51d5077b0"
      },
      "source": [
        "df_tab.isnull().sum()"
      ],
      "execution_count": 9,
      "outputs": [
        {
          "output_type": "execute_result",
          "data": {
            "text/plain": [
              "ID           0\n",
              "Gene         0\n",
              "Variation    0\n",
              "Class        0\n",
              "dtype: int64"
            ]
          },
          "metadata": {
            "tags": []
          },
          "execution_count": 9
        }
      ]
    },
    {
      "cell_type": "markdown",
      "metadata": {
        "id": "1IlN8MiETC75"
      },
      "source": [
        "Reading Text Dataset and EDA"
      ]
    },
    {
      "cell_type": "code",
      "metadata": {
        "colab": {
          "base_uri": "https://localhost:8080/",
          "height": 200
        },
        "id": "EBVLaZzKSwFC",
        "outputId": "7360e4f1-5085-475d-9875-1510c52147ea"
      },
      "source": [
        "df_text =pd.read_csv(\"/content/training_text\",sep=\"\\|\\|\",engine=\"python\",names=[\"ID\",\"TEXT\"],skiprows=1)\n",
        "df_text.head()"
      ],
      "execution_count": 10,
      "outputs": [
        {
          "output_type": "execute_result",
          "data": {
            "text/html": [
              "<div>\n",
              "<style scoped>\n",
              "    .dataframe tbody tr th:only-of-type {\n",
              "        vertical-align: middle;\n",
              "    }\n",
              "\n",
              "    .dataframe tbody tr th {\n",
              "        vertical-align: top;\n",
              "    }\n",
              "\n",
              "    .dataframe thead th {\n",
              "        text-align: right;\n",
              "    }\n",
              "</style>\n",
              "<table border=\"1\" class=\"dataframe\">\n",
              "  <thead>\n",
              "    <tr style=\"text-align: right;\">\n",
              "      <th></th>\n",
              "      <th>ID</th>\n",
              "      <th>TEXT</th>\n",
              "    </tr>\n",
              "  </thead>\n",
              "  <tbody>\n",
              "    <tr>\n",
              "      <th>0</th>\n",
              "      <td>0</td>\n",
              "      <td>Cyclin-dependent kinases (CDKs) regulate a var...</td>\n",
              "    </tr>\n",
              "    <tr>\n",
              "      <th>1</th>\n",
              "      <td>1</td>\n",
              "      <td>Abstract Background  Non-small cell lung canc...</td>\n",
              "    </tr>\n",
              "    <tr>\n",
              "      <th>2</th>\n",
              "      <td>2</td>\n",
              "      <td>Abstract Background  Non-small cell lung canc...</td>\n",
              "    </tr>\n",
              "    <tr>\n",
              "      <th>3</th>\n",
              "      <td>3</td>\n",
              "      <td>Recent evidence has demonstrated that acquired...</td>\n",
              "    </tr>\n",
              "    <tr>\n",
              "      <th>4</th>\n",
              "      <td>4</td>\n",
              "      <td>Oncogenic mutations in the monomeric Casitas B...</td>\n",
              "    </tr>\n",
              "  </tbody>\n",
              "</table>\n",
              "</div>"
            ],
            "text/plain": [
              "   ID                                               TEXT\n",
              "0   0  Cyclin-dependent kinases (CDKs) regulate a var...\n",
              "1   1   Abstract Background  Non-small cell lung canc...\n",
              "2   2   Abstract Background  Non-small cell lung canc...\n",
              "3   3  Recent evidence has demonstrated that acquired...\n",
              "4   4  Oncogenic mutations in the monomeric Casitas B..."
            ]
          },
          "metadata": {
            "tags": []
          },
          "execution_count": 10
        }
      ]
    },
    {
      "cell_type": "code",
      "metadata": {
        "colab": {
          "base_uri": "https://localhost:8080/"
        },
        "id": "3AD13JkoTreL",
        "outputId": "0d6c918e-c3ad-49fe-a148-15773264c995"
      },
      "source": [
        "df_text.shape"
      ],
      "execution_count": 11,
      "outputs": [
        {
          "output_type": "execute_result",
          "data": {
            "text/plain": [
              "(518, 2)"
            ]
          },
          "metadata": {
            "tags": []
          },
          "execution_count": 11
        }
      ]
    },
    {
      "cell_type": "markdown",
      "metadata": {
        "id": "JoWV28MMTw_Z"
      },
      "source": [
        "Merge Datasets"
      ]
    },
    {
      "cell_type": "code",
      "metadata": {
        "colab": {
          "base_uri": "https://localhost:8080/",
          "height": 200
        },
        "id": "Au_-64ymTvKp",
        "outputId": "df88f5fb-0033-4b2a-ac5c-699e08159257"
      },
      "source": [
        "df_merge = pd.merge(df_tab,df_text, on=\"ID\",how=\"left\")\n",
        "df_merge.head()"
      ],
      "execution_count": 12,
      "outputs": [
        {
          "output_type": "execute_result",
          "data": {
            "text/html": [
              "<div>\n",
              "<style scoped>\n",
              "    .dataframe tbody tr th:only-of-type {\n",
              "        vertical-align: middle;\n",
              "    }\n",
              "\n",
              "    .dataframe tbody tr th {\n",
              "        vertical-align: top;\n",
              "    }\n",
              "\n",
              "    .dataframe thead th {\n",
              "        text-align: right;\n",
              "    }\n",
              "</style>\n",
              "<table border=\"1\" class=\"dataframe\">\n",
              "  <thead>\n",
              "    <tr style=\"text-align: right;\">\n",
              "      <th></th>\n",
              "      <th>ID</th>\n",
              "      <th>Gene</th>\n",
              "      <th>Variation</th>\n",
              "      <th>Class</th>\n",
              "      <th>TEXT</th>\n",
              "    </tr>\n",
              "  </thead>\n",
              "  <tbody>\n",
              "    <tr>\n",
              "      <th>0</th>\n",
              "      <td>0</td>\n",
              "      <td>FAM58A</td>\n",
              "      <td>Truncating Mutations</td>\n",
              "      <td>1</td>\n",
              "      <td>Cyclin-dependent kinases (CDKs) regulate a var...</td>\n",
              "    </tr>\n",
              "    <tr>\n",
              "      <th>1</th>\n",
              "      <td>1</td>\n",
              "      <td>CBL</td>\n",
              "      <td>W802*</td>\n",
              "      <td>2</td>\n",
              "      <td>Abstract Background  Non-small cell lung canc...</td>\n",
              "    </tr>\n",
              "    <tr>\n",
              "      <th>2</th>\n",
              "      <td>2</td>\n",
              "      <td>CBL</td>\n",
              "      <td>Q249E</td>\n",
              "      <td>2</td>\n",
              "      <td>Abstract Background  Non-small cell lung canc...</td>\n",
              "    </tr>\n",
              "    <tr>\n",
              "      <th>3</th>\n",
              "      <td>3</td>\n",
              "      <td>CBL</td>\n",
              "      <td>N454D</td>\n",
              "      <td>3</td>\n",
              "      <td>Recent evidence has demonstrated that acquired...</td>\n",
              "    </tr>\n",
              "    <tr>\n",
              "      <th>4</th>\n",
              "      <td>4</td>\n",
              "      <td>CBL</td>\n",
              "      <td>L399V</td>\n",
              "      <td>4</td>\n",
              "      <td>Oncogenic mutations in the monomeric Casitas B...</td>\n",
              "    </tr>\n",
              "  </tbody>\n",
              "</table>\n",
              "</div>"
            ],
            "text/plain": [
              "   ID    Gene  ... Class                                               TEXT\n",
              "0   0  FAM58A  ...     1  Cyclin-dependent kinases (CDKs) regulate a var...\n",
              "1   1     CBL  ...     2   Abstract Background  Non-small cell lung canc...\n",
              "2   2     CBL  ...     2   Abstract Background  Non-small cell lung canc...\n",
              "3   3     CBL  ...     3  Recent evidence has demonstrated that acquired...\n",
              "4   4     CBL  ...     4  Oncogenic mutations in the monomeric Casitas B...\n",
              "\n",
              "[5 rows x 5 columns]"
            ]
          },
          "metadata": {
            "tags": []
          },
          "execution_count": 12
        }
      ]
    },
    {
      "cell_type": "code",
      "metadata": {
        "id": "-JQmu-l9T237"
      },
      "source": [
        "# lowercase column names\n",
        "df_merge.columns = df_merge.columns.str.lower()"
      ],
      "execution_count": 13,
      "outputs": []
    },
    {
      "cell_type": "markdown",
      "metadata": {
        "id": "_nDaIA6FUmch"
      },
      "source": [
        "전처리"
      ]
    },
    {
      "cell_type": "markdown",
      "metadata": {
        "id": "rLUSiVsbT6QF"
      },
      "source": [
        "Clean Text Column"
      ]
    },
    {
      "cell_type": "code",
      "metadata": {
        "colab": {
          "base_uri": "https://localhost:8080/"
        },
        "id": "8q0-dUS5T48h",
        "outputId": "33fd8aa9-ca8b-460e-e123-7b7e608d4909"
      },
      "source": [
        "df_merge.isnull().sum()"
      ],
      "execution_count": 14,
      "outputs": [
        {
          "output_type": "execute_result",
          "data": {
            "text/plain": [
              "id              0\n",
              "gene            0\n",
              "variation       0\n",
              "class           0\n",
              "text         2803\n",
              "dtype: int64"
            ]
          },
          "metadata": {
            "tags": []
          },
          "execution_count": 14
        }
      ]
    },
    {
      "cell_type": "code",
      "metadata": {
        "colab": {
          "base_uri": "https://localhost:8080/",
          "height": 411
        },
        "id": "NIs3nC3MT77v",
        "outputId": "181d7d99-82e2-48a2-f97f-7d7a08ebf2ab"
      },
      "source": [
        "df_merge[df_merge.isnull().any(axis=1)]"
      ],
      "execution_count": 15,
      "outputs": [
        {
          "output_type": "execute_result",
          "data": {
            "text/html": [
              "<div>\n",
              "<style scoped>\n",
              "    .dataframe tbody tr th:only-of-type {\n",
              "        vertical-align: middle;\n",
              "    }\n",
              "\n",
              "    .dataframe tbody tr th {\n",
              "        vertical-align: top;\n",
              "    }\n",
              "\n",
              "    .dataframe thead th {\n",
              "        text-align: right;\n",
              "    }\n",
              "</style>\n",
              "<table border=\"1\" class=\"dataframe\">\n",
              "  <thead>\n",
              "    <tr style=\"text-align: right;\">\n",
              "      <th></th>\n",
              "      <th>id</th>\n",
              "      <th>gene</th>\n",
              "      <th>variation</th>\n",
              "      <th>class</th>\n",
              "      <th>text</th>\n",
              "    </tr>\n",
              "  </thead>\n",
              "  <tbody>\n",
              "    <tr>\n",
              "      <th>518</th>\n",
              "      <td>518</td>\n",
              "      <td>TP53</td>\n",
              "      <td>P151A</td>\n",
              "      <td>4</td>\n",
              "      <td>NaN</td>\n",
              "    </tr>\n",
              "    <tr>\n",
              "      <th>519</th>\n",
              "      <td>519</td>\n",
              "      <td>TP53</td>\n",
              "      <td>R273G</td>\n",
              "      <td>1</td>\n",
              "      <td>NaN</td>\n",
              "    </tr>\n",
              "    <tr>\n",
              "      <th>520</th>\n",
              "      <td>520</td>\n",
              "      <td>TP53</td>\n",
              "      <td>V197E</td>\n",
              "      <td>1</td>\n",
              "      <td>NaN</td>\n",
              "    </tr>\n",
              "    <tr>\n",
              "      <th>521</th>\n",
              "      <td>521</td>\n",
              "      <td>TP53</td>\n",
              "      <td>E286K</td>\n",
              "      <td>4</td>\n",
              "      <td>NaN</td>\n",
              "    </tr>\n",
              "    <tr>\n",
              "      <th>522</th>\n",
              "      <td>522</td>\n",
              "      <td>TP53</td>\n",
              "      <td>K120M</td>\n",
              "      <td>4</td>\n",
              "      <td>NaN</td>\n",
              "    </tr>\n",
              "    <tr>\n",
              "      <th>...</th>\n",
              "      <td>...</td>\n",
              "      <td>...</td>\n",
              "      <td>...</td>\n",
              "      <td>...</td>\n",
              "      <td>...</td>\n",
              "    </tr>\n",
              "    <tr>\n",
              "      <th>3316</th>\n",
              "      <td>3316</td>\n",
              "      <td>RUNX1</td>\n",
              "      <td>D171N</td>\n",
              "      <td>4</td>\n",
              "      <td>NaN</td>\n",
              "    </tr>\n",
              "    <tr>\n",
              "      <th>3317</th>\n",
              "      <td>3317</td>\n",
              "      <td>RUNX1</td>\n",
              "      <td>A122*</td>\n",
              "      <td>1</td>\n",
              "      <td>NaN</td>\n",
              "    </tr>\n",
              "    <tr>\n",
              "      <th>3318</th>\n",
              "      <td>3318</td>\n",
              "      <td>RUNX1</td>\n",
              "      <td>Fusions</td>\n",
              "      <td>1</td>\n",
              "      <td>NaN</td>\n",
              "    </tr>\n",
              "    <tr>\n",
              "      <th>3319</th>\n",
              "      <td>3319</td>\n",
              "      <td>RUNX1</td>\n",
              "      <td>R80C</td>\n",
              "      <td>4</td>\n",
              "      <td>NaN</td>\n",
              "    </tr>\n",
              "    <tr>\n",
              "      <th>3320</th>\n",
              "      <td>3320</td>\n",
              "      <td>RUNX1</td>\n",
              "      <td>K83E</td>\n",
              "      <td>4</td>\n",
              "      <td>NaN</td>\n",
              "    </tr>\n",
              "  </tbody>\n",
              "</table>\n",
              "<p>2803 rows × 5 columns</p>\n",
              "</div>"
            ],
            "text/plain": [
              "        id   gene variation  class text\n",
              "518    518   TP53     P151A      4  NaN\n",
              "519    519   TP53     R273G      1  NaN\n",
              "520    520   TP53     V197E      1  NaN\n",
              "521    521   TP53     E286K      4  NaN\n",
              "522    522   TP53     K120M      4  NaN\n",
              "...    ...    ...       ...    ...  ...\n",
              "3316  3316  RUNX1     D171N      4  NaN\n",
              "3317  3317  RUNX1     A122*      1  NaN\n",
              "3318  3318  RUNX1   Fusions      1  NaN\n",
              "3319  3319  RUNX1      R80C      4  NaN\n",
              "3320  3320  RUNX1      K83E      4  NaN\n",
              "\n",
              "[2803 rows x 5 columns]"
            ]
          },
          "metadata": {
            "tags": []
          },
          "execution_count": 15
        }
      ]
    },
    {
      "cell_type": "code",
      "metadata": {
        "id": "Rt7hmjJhUQbg"
      },
      "source": [
        ""
      ],
      "execution_count": null,
      "outputs": []
    },
    {
      "cell_type": "code",
      "metadata": {
        "id": "tbNOwzJdUJMh"
      },
      "source": [
        "# Fill NaN values with Gene & Variation \n",
        "df_merge.loc[df_merge[\"text\"].isnull(),\"text\"] = df_merge[\"gene\"] + \" \" + df_merge[\"variation\"]"
      ],
      "execution_count": 16,
      "outputs": []
    },
    {
      "cell_type": "code",
      "metadata": {
        "colab": {
          "base_uri": "https://localhost:8080/"
        },
        "id": "BtZEwFvvUMgK",
        "outputId": "4c76e634-8114-4b70-c39c-82531561cb94"
      },
      "source": [
        "df_merge.isnull().sum()"
      ],
      "execution_count": 17,
      "outputs": [
        {
          "output_type": "execute_result",
          "data": {
            "text/plain": [
              "id           0\n",
              "gene         0\n",
              "variation    0\n",
              "class        0\n",
              "text         0\n",
              "dtype: int64"
            ]
          },
          "metadata": {
            "tags": []
          },
          "execution_count": 17
        }
      ]
    },
    {
      "cell_type": "code",
      "metadata": {
        "colab": {
          "base_uri": "https://localhost:8080/",
          "height": 200
        },
        "id": "eUsp5R6cUNx3",
        "outputId": "a18e7578-8128-40c6-c74c-17574a5a8a8f"
      },
      "source": [
        "# lowercase \n",
        "df_merge[\"text\"] = df_merge[\"text\"].apply(lambda x: \" \".join(i.lower() for i in x.split()))\n",
        "df_merge.head()"
      ],
      "execution_count": 18,
      "outputs": [
        {
          "output_type": "execute_result",
          "data": {
            "text/html": [
              "<div>\n",
              "<style scoped>\n",
              "    .dataframe tbody tr th:only-of-type {\n",
              "        vertical-align: middle;\n",
              "    }\n",
              "\n",
              "    .dataframe tbody tr th {\n",
              "        vertical-align: top;\n",
              "    }\n",
              "\n",
              "    .dataframe thead th {\n",
              "        text-align: right;\n",
              "    }\n",
              "</style>\n",
              "<table border=\"1\" class=\"dataframe\">\n",
              "  <thead>\n",
              "    <tr style=\"text-align: right;\">\n",
              "      <th></th>\n",
              "      <th>id</th>\n",
              "      <th>gene</th>\n",
              "      <th>variation</th>\n",
              "      <th>class</th>\n",
              "      <th>text</th>\n",
              "    </tr>\n",
              "  </thead>\n",
              "  <tbody>\n",
              "    <tr>\n",
              "      <th>0</th>\n",
              "      <td>0</td>\n",
              "      <td>FAM58A</td>\n",
              "      <td>Truncating Mutations</td>\n",
              "      <td>1</td>\n",
              "      <td>cyclin-dependent kinases (cdks) regulate a var...</td>\n",
              "    </tr>\n",
              "    <tr>\n",
              "      <th>1</th>\n",
              "      <td>1</td>\n",
              "      <td>CBL</td>\n",
              "      <td>W802*</td>\n",
              "      <td>2</td>\n",
              "      <td>abstract background non-small cell lung cancer...</td>\n",
              "    </tr>\n",
              "    <tr>\n",
              "      <th>2</th>\n",
              "      <td>2</td>\n",
              "      <td>CBL</td>\n",
              "      <td>Q249E</td>\n",
              "      <td>2</td>\n",
              "      <td>abstract background non-small cell lung cancer...</td>\n",
              "    </tr>\n",
              "    <tr>\n",
              "      <th>3</th>\n",
              "      <td>3</td>\n",
              "      <td>CBL</td>\n",
              "      <td>N454D</td>\n",
              "      <td>3</td>\n",
              "      <td>recent evidence has demonstrated that acquired...</td>\n",
              "    </tr>\n",
              "    <tr>\n",
              "      <th>4</th>\n",
              "      <td>4</td>\n",
              "      <td>CBL</td>\n",
              "      <td>L399V</td>\n",
              "      <td>4</td>\n",
              "      <td>oncogenic mutations in the monomeric casitas b...</td>\n",
              "    </tr>\n",
              "  </tbody>\n",
              "</table>\n",
              "</div>"
            ],
            "text/plain": [
              "   id    gene  ... class                                               text\n",
              "0   0  FAM58A  ...     1  cyclin-dependent kinases (cdks) regulate a var...\n",
              "1   1     CBL  ...     2  abstract background non-small cell lung cancer...\n",
              "2   2     CBL  ...     2  abstract background non-small cell lung cancer...\n",
              "3   3     CBL  ...     3  recent evidence has demonstrated that acquired...\n",
              "4   4     CBL  ...     4  oncogenic mutations in the monomeric casitas b...\n",
              "\n",
              "[5 rows x 5 columns]"
            ]
          },
          "metadata": {
            "tags": []
          },
          "execution_count": 18
        }
      ]
    },
    {
      "cell_type": "code",
      "metadata": {
        "colab": {
          "base_uri": "https://localhost:8080/",
          "height": 200
        },
        "id": "4OoH6QodURPD",
        "outputId": "ec67d6f6-01d2-4165-e445-48334b33c409"
      },
      "source": [
        "# remove punctuations\n",
        "df_merge[\"text\"] = df_merge[\"text\"].str.replace(\"[^\\w\\s]\",\"\")\n",
        "df_merge.head()"
      ],
      "execution_count": 19,
      "outputs": [
        {
          "output_type": "execute_result",
          "data": {
            "text/html": [
              "<div>\n",
              "<style scoped>\n",
              "    .dataframe tbody tr th:only-of-type {\n",
              "        vertical-align: middle;\n",
              "    }\n",
              "\n",
              "    .dataframe tbody tr th {\n",
              "        vertical-align: top;\n",
              "    }\n",
              "\n",
              "    .dataframe thead th {\n",
              "        text-align: right;\n",
              "    }\n",
              "</style>\n",
              "<table border=\"1\" class=\"dataframe\">\n",
              "  <thead>\n",
              "    <tr style=\"text-align: right;\">\n",
              "      <th></th>\n",
              "      <th>id</th>\n",
              "      <th>gene</th>\n",
              "      <th>variation</th>\n",
              "      <th>class</th>\n",
              "      <th>text</th>\n",
              "    </tr>\n",
              "  </thead>\n",
              "  <tbody>\n",
              "    <tr>\n",
              "      <th>0</th>\n",
              "      <td>0</td>\n",
              "      <td>FAM58A</td>\n",
              "      <td>Truncating Mutations</td>\n",
              "      <td>1</td>\n",
              "      <td>cyclindependent kinases cdks regulate a variet...</td>\n",
              "    </tr>\n",
              "    <tr>\n",
              "      <th>1</th>\n",
              "      <td>1</td>\n",
              "      <td>CBL</td>\n",
              "      <td>W802*</td>\n",
              "      <td>2</td>\n",
              "      <td>abstract background nonsmall cell lung cancer ...</td>\n",
              "    </tr>\n",
              "    <tr>\n",
              "      <th>2</th>\n",
              "      <td>2</td>\n",
              "      <td>CBL</td>\n",
              "      <td>Q249E</td>\n",
              "      <td>2</td>\n",
              "      <td>abstract background nonsmall cell lung cancer ...</td>\n",
              "    </tr>\n",
              "    <tr>\n",
              "      <th>3</th>\n",
              "      <td>3</td>\n",
              "      <td>CBL</td>\n",
              "      <td>N454D</td>\n",
              "      <td>3</td>\n",
              "      <td>recent evidence has demonstrated that acquired...</td>\n",
              "    </tr>\n",
              "    <tr>\n",
              "      <th>4</th>\n",
              "      <td>4</td>\n",
              "      <td>CBL</td>\n",
              "      <td>L399V</td>\n",
              "      <td>4</td>\n",
              "      <td>oncogenic mutations in the monomeric casitas b...</td>\n",
              "    </tr>\n",
              "  </tbody>\n",
              "</table>\n",
              "</div>"
            ],
            "text/plain": [
              "   id    gene  ... class                                               text\n",
              "0   0  FAM58A  ...     1  cyclindependent kinases cdks regulate a variet...\n",
              "1   1     CBL  ...     2  abstract background nonsmall cell lung cancer ...\n",
              "2   2     CBL  ...     2  abstract background nonsmall cell lung cancer ...\n",
              "3   3     CBL  ...     3  recent evidence has demonstrated that acquired...\n",
              "4   4     CBL  ...     4  oncogenic mutations in the monomeric casitas b...\n",
              "\n",
              "[5 rows x 5 columns]"
            ]
          },
          "metadata": {
            "tags": []
          },
          "execution_count": 19
        }
      ]
    },
    {
      "cell_type": "code",
      "metadata": {
        "colab": {
          "base_uri": "https://localhost:8080/",
          "height": 200
        },
        "id": "1edmEVytUS_Q",
        "outputId": "1f6ca51d-9294-4caf-a710-a9fb7d204ccd"
      },
      "source": [
        "# remove numeric values\n",
        "df_merge[\"text\"] = df_merge[\"text\"].str.replace(\"\\d\",\"\")\n",
        "df_merge.head()"
      ],
      "execution_count": 20,
      "outputs": [
        {
          "output_type": "execute_result",
          "data": {
            "text/html": [
              "<div>\n",
              "<style scoped>\n",
              "    .dataframe tbody tr th:only-of-type {\n",
              "        vertical-align: middle;\n",
              "    }\n",
              "\n",
              "    .dataframe tbody tr th {\n",
              "        vertical-align: top;\n",
              "    }\n",
              "\n",
              "    .dataframe thead th {\n",
              "        text-align: right;\n",
              "    }\n",
              "</style>\n",
              "<table border=\"1\" class=\"dataframe\">\n",
              "  <thead>\n",
              "    <tr style=\"text-align: right;\">\n",
              "      <th></th>\n",
              "      <th>id</th>\n",
              "      <th>gene</th>\n",
              "      <th>variation</th>\n",
              "      <th>class</th>\n",
              "      <th>text</th>\n",
              "    </tr>\n",
              "  </thead>\n",
              "  <tbody>\n",
              "    <tr>\n",
              "      <th>0</th>\n",
              "      <td>0</td>\n",
              "      <td>FAM58A</td>\n",
              "      <td>Truncating Mutations</td>\n",
              "      <td>1</td>\n",
              "      <td>cyclindependent kinases cdks regulate a variet...</td>\n",
              "    </tr>\n",
              "    <tr>\n",
              "      <th>1</th>\n",
              "      <td>1</td>\n",
              "      <td>CBL</td>\n",
              "      <td>W802*</td>\n",
              "      <td>2</td>\n",
              "      <td>abstract background nonsmall cell lung cancer ...</td>\n",
              "    </tr>\n",
              "    <tr>\n",
              "      <th>2</th>\n",
              "      <td>2</td>\n",
              "      <td>CBL</td>\n",
              "      <td>Q249E</td>\n",
              "      <td>2</td>\n",
              "      <td>abstract background nonsmall cell lung cancer ...</td>\n",
              "    </tr>\n",
              "    <tr>\n",
              "      <th>3</th>\n",
              "      <td>3</td>\n",
              "      <td>CBL</td>\n",
              "      <td>N454D</td>\n",
              "      <td>3</td>\n",
              "      <td>recent evidence has demonstrated that acquired...</td>\n",
              "    </tr>\n",
              "    <tr>\n",
              "      <th>4</th>\n",
              "      <td>4</td>\n",
              "      <td>CBL</td>\n",
              "      <td>L399V</td>\n",
              "      <td>4</td>\n",
              "      <td>oncogenic mutations in the monomeric casitas b...</td>\n",
              "    </tr>\n",
              "  </tbody>\n",
              "</table>\n",
              "</div>"
            ],
            "text/plain": [
              "   id    gene  ... class                                               text\n",
              "0   0  FAM58A  ...     1  cyclindependent kinases cdks regulate a variet...\n",
              "1   1     CBL  ...     2  abstract background nonsmall cell lung cancer ...\n",
              "2   2     CBL  ...     2  abstract background nonsmall cell lung cancer ...\n",
              "3   3     CBL  ...     3  recent evidence has demonstrated that acquired...\n",
              "4   4     CBL  ...     4  oncogenic mutations in the monomeric casitas b...\n",
              "\n",
              "[5 rows x 5 columns]"
            ]
          },
          "metadata": {
            "tags": []
          },
          "execution_count": 20
        }
      ]
    },
    {
      "cell_type": "code",
      "metadata": {
        "colab": {
          "base_uri": "https://localhost:8080/"
        },
        "id": "13c25svKUXb3",
        "outputId": "d9fc9b07-b572-4a61-8032-6b48cd8bcfa1"
      },
      "source": [
        "# remove stopwords: the,a,an etc.\n",
        "nltk.download(\"stopwords\")\n",
        "from nltk.corpus import stopwords\n",
        "sw = stopwords.words(\"english\")"
      ],
      "execution_count": 21,
      "outputs": [
        {
          "output_type": "stream",
          "text": [
            "[nltk_data] Downloading package stopwords to /root/nltk_data...\n",
            "[nltk_data]   Unzipping corpora/stopwords.zip.\n"
          ],
          "name": "stdout"
        }
      ]
    },
    {
      "cell_type": "code",
      "metadata": {
        "colab": {
          "base_uri": "https://localhost:8080/",
          "height": 200
        },
        "id": "6968rs0GUdBr",
        "outputId": "9b05b278-85f6-49a8-86b0-8ce3e254268f"
      },
      "source": [
        "df_merge[\"text\"] = df_merge[\"text\"].apply(lambda x: \" \".join(i for i in x.split() if i not in sw))\n",
        "df_merge.head()"
      ],
      "execution_count": 23,
      "outputs": [
        {
          "output_type": "execute_result",
          "data": {
            "text/html": [
              "<div>\n",
              "<style scoped>\n",
              "    .dataframe tbody tr th:only-of-type {\n",
              "        vertical-align: middle;\n",
              "    }\n",
              "\n",
              "    .dataframe tbody tr th {\n",
              "        vertical-align: top;\n",
              "    }\n",
              "\n",
              "    .dataframe thead th {\n",
              "        text-align: right;\n",
              "    }\n",
              "</style>\n",
              "<table border=\"1\" class=\"dataframe\">\n",
              "  <thead>\n",
              "    <tr style=\"text-align: right;\">\n",
              "      <th></th>\n",
              "      <th>id</th>\n",
              "      <th>gene</th>\n",
              "      <th>variation</th>\n",
              "      <th>class</th>\n",
              "      <th>text</th>\n",
              "    </tr>\n",
              "  </thead>\n",
              "  <tbody>\n",
              "    <tr>\n",
              "      <th>0</th>\n",
              "      <td>0</td>\n",
              "      <td>FAM58A</td>\n",
              "      <td>Truncating Mutations</td>\n",
              "      <td>1</td>\n",
              "      <td>cyclindependent kinases cdks regulate variety ...</td>\n",
              "    </tr>\n",
              "    <tr>\n",
              "      <th>1</th>\n",
              "      <td>1</td>\n",
              "      <td>CBL</td>\n",
              "      <td>W802*</td>\n",
              "      <td>2</td>\n",
              "      <td>abstract background nonsmall cell lung cancer ...</td>\n",
              "    </tr>\n",
              "    <tr>\n",
              "      <th>2</th>\n",
              "      <td>2</td>\n",
              "      <td>CBL</td>\n",
              "      <td>Q249E</td>\n",
              "      <td>2</td>\n",
              "      <td>abstract background nonsmall cell lung cancer ...</td>\n",
              "    </tr>\n",
              "    <tr>\n",
              "      <th>3</th>\n",
              "      <td>3</td>\n",
              "      <td>CBL</td>\n",
              "      <td>N454D</td>\n",
              "      <td>3</td>\n",
              "      <td>recent evidence demonstrated acquired uniparen...</td>\n",
              "    </tr>\n",
              "    <tr>\n",
              "      <th>4</th>\n",
              "      <td>4</td>\n",
              "      <td>CBL</td>\n",
              "      <td>L399V</td>\n",
              "      <td>4</td>\n",
              "      <td>oncogenic mutations monomeric casitas blineage...</td>\n",
              "    </tr>\n",
              "  </tbody>\n",
              "</table>\n",
              "</div>"
            ],
            "text/plain": [
              "   id    gene  ... class                                               text\n",
              "0   0  FAM58A  ...     1  cyclindependent kinases cdks regulate variety ...\n",
              "1   1     CBL  ...     2  abstract background nonsmall cell lung cancer ...\n",
              "2   2     CBL  ...     2  abstract background nonsmall cell lung cancer ...\n",
              "3   3     CBL  ...     3  recent evidence demonstrated acquired uniparen...\n",
              "4   4     CBL  ...     4  oncogenic mutations monomeric casitas blineage...\n",
              "\n",
              "[5 rows x 5 columns]"
            ]
          },
          "metadata": {
            "tags": []
          },
          "execution_count": 23
        }
      ]
    },
    {
      "cell_type": "markdown",
      "metadata": {
        "id": "6FOapRLAUhgi"
      },
      "source": [
        "토크나이징\n",
        "\n",
        "- 문장을 단어로 나누기"
      ]
    },
    {
      "cell_type": "code",
      "metadata": {
        "colab": {
          "base_uri": "https://localhost:8080/"
        },
        "id": "15bX1O_AUn7a",
        "outputId": "4f4cc5f5-4724-46ed-98b2-24c0e413607c"
      },
      "source": [
        "nltk.download(\"punkt\")\n",
        "import textblob\n",
        "from textblob import TextBlob"
      ],
      "execution_count": 24,
      "outputs": [
        {
          "output_type": "stream",
          "text": [
            "[nltk_data] Downloading package punkt to /root/nltk_data...\n",
            "[nltk_data]   Unzipping tokenizers/punkt.zip.\n"
          ],
          "name": "stdout"
        }
      ]
    },
    {
      "cell_type": "code",
      "metadata": {
        "colab": {
          "base_uri": "https://localhost:8080/"
        },
        "id": "9sec0HBAUsfh",
        "outputId": "04b35fb2-f852-41fc-8ef5-f164d94e3796"
      },
      "source": [
        "# an example:\n",
        "TextBlob(df_merge[\"text\"][1]).words"
      ],
      "execution_count": 26,
      "outputs": [
        {
          "output_type": "execute_result",
          "data": {
            "text/plain": [
              "WordList(['abstract', 'background', 'nonsmall', 'cell', 'lung', 'cancer', 'nsclc', 'heterogeneous', 'group', 'disorders', 'number', 'genetic', 'proteomic', 'alterations', 'ccbl', 'e', 'ubiquitin', 'ligase', 'adaptor', 'molecule', 'important', 'normal', 'homeostasis', 'cancer', 'determined', 'genetic', 'variations', 'ccbl', 'relationship', 'receptor', 'tyrosine', 'kinases', 'egfr', 'met', 'functionality', 'nsclc', 'methods', 'findings', 'using', 'archival', 'formalinfixed', 'paraffin', 'embedded', 'ffpe', 'extracted', 'genomic', 'dna', 'show', 'ccbl', 'mutations', 'occur', 'somatic', 'fashion', 'lung', 'cancers', 'ccbl', 'mutations', 'mutually', 'exclusive', 'met', 'egfr', 'mutations', 'however', 'independent', 'p', 'kras', 'mutations', 'normaltumor', 'pairwise', 'analysis', 'significant', 'loss', 'heterozygosity', 'loh', 'ccbl', 'locus', 'n', 'none', 'samples', 'revealed', 'mutation', 'remaining', 'copy', 'ccbl', 'ccbl', 'loh', 'also', 'positively', 'correlated', 'egfr', 'met', 'mutations', 'observed', 'samples', 'using', 'select', 'ccbl', 'somatic', 'mutations', 'snhy', 'qe', 'w', 'obtained', 'caucasian', 'taiwanese', 'africanamerican', 'samples', 'respectively', 'transfected', 'nsclc', 'cell', 'lines', 'increased', 'cell', 'viability', 'cell', 'motility', 'conclusions', 'taking', 'overall', 'mutation', 'rate', 'ccbl', 'combination', 'somatic', 'missense', 'mutation', 'loh', 'clear', 'ccbl', 'highly', 'mutated', 'lung', 'cancers', 'may', 'play', 'essential', 'role', 'lung', 'tumorigenesis', 'metastasis', 'go', 'introduction', 'us', 'alone', 'year', 'approximately', 'people', 'diagnosed', 'lung', 'cancers', 'succumb', 'disease', 'number', 'roughly', 'equivalent', 'combined', 'mortality', 'rates', 'cancers', 'breast', 'prostate', 'colon', 'liver', 'kidney', 'melanoma', 'addition', 'prognosis', 'usually', 'poor', 'fiveyear', 'survival', 'rate', 'less', 'also', 'significant', 'ethnic', 'differences', 'lung', 'cancer', 'outcome', 'worse', 'blacks', 'compared', 'whites', 'gender', 'differences', 'also', 'striking', 'women', 'significantly', 'better', 'prognosis', 'compared', 'men', 'number', 'genetic', 'alterations', 'occur', 'lung', 'cancer', 'example', 'nsclc', 'mutations', 'kras', 'p', 'egfr', 'met', 'identified', 'many', 'pathways', 'especially', 'receptor', 'tyrosine', 'kinases', 'rtks', 'controlled', 'ccbl', 'cbl', 'casitas', 'blineage', 'lymphoma', 'mammalian', 'gene', 'located', 'human', 'chromosome', 'q', 'involved', 'cell', 'signaling', 'protein', 'ubiquitination', 'cbl', 'proteins', 'belong', 'ring', 'finger', 'class', 'ubiquitin', 'ligases', 'e', 'three', 'homologues', 'ccbl', 'cblb', 'cbl', 'ccbl', 'cblb', 'genes', 'ubiquitously', 'expressed', 'highest', 'levels', 'hematopoietic', 'tissues', 'ccbl', 'consists', 'four', 'regions', 'encoding', 'functionally', 'distinct', 'protein', 'domains', 'nterminal', 'tyrosine', 'kinase', 'binding', 'tkb', 'domain', 'linker', 'region', 'catalytic', 'ring', 'finger', 'domain', 'prolinerich', 'region', 'cterminal', 'ubiquitinassociated', 'uba', 'domain', 'also', 'overlaps', 'leucinezipper', 'lz', 'domain', 'tkb', 'ring', 'finger', 'domains', 'essential', 'ligandinduced', 'ubiquitination', 'rtks', 'ring', 'finger', 'domain', 'required', 'recruitment', 'e', 'ubiquitinconjugating', 'enzymes', 'tkb', 'domain', 'includes', 'fourhelix', 'bundle', 'h', 'calciumbiding', 'ef', 'hand', 'modified', 'sh', 'domain', 'binds', 'phosphotyrosine', 'residues', 'addition', 'prolinerich', 'region', 'ccbl', 'associate', 'sh', 'domain', 'grb', 'indirectly', 'recruit', 'ccbl', 'rtks', 'via', 'grb', 'adaptor', 'protein', 'ccbl', 'also', 'binds', 'egfr', 'acts', 'e', 'targets', 'egfr', 'ubiquitination', 'degradation', 'furthermore', 'cbl', 'desensitizes', 'egf', 'signaling', 'opposes', 'cellular', 'proliferation', 'induced', 'egf', 'egf', 'activation', 'also', 'appears', 'activate', 'tyrosine', 'kinase', 'src', 'phosphorylates', 'ccbl', 'turn', 'activates', 'ubiquitination', 'degradation', 'egfr', 'recent', 'study', 'shows', 'defective', 'endocytosis', 'egfr', 'characterized', 'deletion', 'mutant', 'point', 'mutation', 'lr', 'whereby', 'association', 'ccbl', 'subsequent', 'ubiquitination', 'impaired', 'recently', 'first', 'human', 'ccbl', 'mutations', 'reported', 'acute', 'myeloid', 'leukemia', 'aml', 'patients', 'mutation', 'rq', 'inhibits', 'fmslike', 'tyrosine', 'kinase', 'flt', 'internalization', 'ubiquitination', 'e', 'activity', 'important', 'oncogenesis', 'ccbl', 'dual', 'separate', 'function', 'signal', 'transduction', 'molecule', 'previously', 'shown', 'ccbl', 'important', 'binding', 'crkl', 'bcrabl', 'hematopoietic', 'cells', 'also', 'bind', 'modulate', 'functions', 'cytoskeleton', 'binding', 'proteins', 'like', 'talin', 'paxillin', 'tkb', 'domain', 'important', 'binding', 'number', 'molecules', 'function', 'signal', 'transduction', 'given', 'critical', 'role', 'cbl', 'normal', 'homeostasis', 'cancer', 'hypothesized', 'might', 'mutated', 'lung', 'cancers', 'study', 'report', 'novel', 'ccbl', 'somatic', 'mutations', 'snhy', 'qe', 'w', 'caucasian', 'taiwanese', 'africanamerican', 'lung', 'cancer', 'patients', 'respectively', 'expressing', 'mutations', 'nsclc', 'cell', 'lines', 'lead', 'increased', 'proliferation', 'cell', 'motility', 'show', 'ccbl', 'mutations', 'occur', 'without', 'met', 'egfr', 'mutations', 'mutually', 'exclusive', 'loh', 'ccbl', 'locus', 'additionally', 'ccbl', 'loh', 'associated', 'either', 'met', 'egfr', 'mutations', 'thus', 'hypothesize', 'ccbl', 'mutations', 'might', 'contribute', 'oncogenic', 'potential', 'met', 'egfr', 'lung', 'cancer', 'go', 'methods', 'ethics', 'statement', 'written', 'consent', 'research', 'human', 'subjects', 'obtained', 'institutional', 'review', 'board', 'university', 'chicago', 'covers', 'research', 'performed', 'laboratory', 'following', 'contact', 'information', 'institutional', 'review', 'board', 'university', 'chicago', 'mcgiffert', 'hall', 'woodlawn', 'ave', 'nd', 'floor', 'chicago', 'il', 'written', 'informed', 'consents', 'received', 'patients', 'whose', 'tissue', 'samples', 'used', 'study', 'tissue', 'samples', 'lung', 'cancer', 'tissue', 'paired', 'adjacent', 'normal', 'lung', 'tissues', 'obtained', 'caucasian', 'africanamericans', 'taiwanese', 'nsclc', 'patients', 'recruited', 'university', 'chicago', 'hospital', 'chicago', 'usa', 'caucasian', 'africanamerican', 'patients', 'taipei', 'veterans', 'general', 'hospital', 'taiwan', 'taiwanese', 'patients', 'obtaining', 'appropriate', 'institutional', 'review', 'board', 'permission', 'informed', 'consent', 'patients', 'samples', 'men', 'women', 'unknown', 'age', 'diagnosis', 'ranging', 'years', 'terms', 'tumor', 'types', 'adenocarcinoma', 'squamous', 'cell', 'carcinoma', 'large', 'cell', 'carcinoma', 'stage', 'stage', 'ii', 'stage', 'iii', 'stage', 'iv', 'table', 'cell', 'culture', 'human', 'nonsmall', 'cell', 'lung', 'carcinoma', 'cells', 'h', 'maintained', 'dmem', 'rpmi', 'respectively', 'human', 'embryonic', 'kidney', 'cells', 'cultured', 'dmem', 'media', 'supplemented', 'fetal', 'bovine', 'serum', 'unitsml', 'penicillin', 'µgml', 'streptomycin', 'invitrogen', 'carlsbad', 'ca', 'cells', 'cultured', 'c', 'humidified', 'incubator', 'containing', 'co', 'ccbl', 'gene', 'mutational', 'analysis', 'exons', 'ccbl', 'gene', 'individually', 'amplified', 'polymerase', 'chain', 'reaction', 'pcr', 'primers', 'listed', 'table', 'pcr', 'conditions', 'cycle', 'c', 'minutes', 'cycles', 'c', 'seconds', 'c', 'seconds', 'c', 'minutes', 'one', 'cycle', 'c', 'minutes', 'pcr', 'products', 'treated', 'exosapit', 'usb', 'corporation', 'cleveland', 'oh', 'sequenced', 'bigdye', 'terminator', 'chemistry', 'applied', 'biosystems', 'foster', 'city', 'ca', 'sequencing', 'performed', 'forward', 'coding', 'strand', 'confirmation', 'ccbl', 'alterations', 'performed', 'sequencing', 'reverse', 'strand', 'well', 'chromatograms', 'analyzed', 'mutations', 'using', 'mutation', 'surveyor', 'v', 'softgenetics', 'state', 'college', 'pa', 'plasmid', 'constructs', 'sitedirected', 'mutagenesis', 'wildtype', 'ccbl', 'cdna', 'insert', 'subcloned', 'paltermax', 'expression', 'vector', 'using', 'xhoi', 'sali', 'restriction', 'enzyme', 'sites', 'promega', 'madison', 'wi', 'using', 'parental', 'plasmid', 'paltermaxccbl', 'tkb', 'domain', 'double', 'mutation', 'snhy', 'point', 'mutation', 'qe', 'cterminal', 'point', 'mutation', 'w', 'ccbl', 'created', 'using', 'following', 'primers', 'gctggcgctaaagaataacccaccttatatcttagac', 'ctaccagatacctaccagtatctccgtactatcttgtc', 'double', 'mutation', 'snhy', 'ctttacccgactctttgagccctggtcctctttgc', 'qe', 'cagctcctcctttggctgattgtctctggatggtgatc', 'w', 'along', 'complementary', 'primers', 'using', 'quickchange', 'sitedirected', 'mutagenesis', 'xl', 'kit', 'stratagene', 'la', 'jolla', 'ca', 'according', 'manufacturers', 'instructions', 'constructs', 'confirmed', 'point', 'mutations', 'standard', 'dna', 'sequencing', 'strands', 'loss', 'heterozygosity', 'loh', 'analysis', 'five', 'microsatellites', 'chromosome', 'q', 'within', 'kb', 'downstream', 'ccbl', 'gene', 'control', 'markers', 'p', 'selected', 'analysis', 'table', 'established', 'microsatellite', 'markers', 'respective', 'primer', 'sequences', 'selected', 'geneloc', 'database', 'httpgenecardsweizmannacilgenelocindexshtml', 'weizmann', 'institute', 'science', 'rehovot', 'israel', 'primers', 'custom', 'designed', 'forward', 'primer', 'fluorescently', 'labeled', 'end', 'fam', 'pet', 'ned', 'vic', 'applied', 'biosystems', 'primer', 'annealing', 'temperatures', 'duplex', 'scores', 'evaluated', 'nist', 'primer', 'tools', 'httpyellownistgovdnaanalysisprimertoolspagedo', 'national', 'institute', 'standards', 'technology', 'gaithersburg', 'md', 'primers', 'verified', 'performing', 'pcr', 'control', 'dna', 'isolated', 'tk', 'cells', 'resolving', 'products', 'agarose', 'gels', 'bands', 'visualized', 'uv', 'transilluminator', 'genomic', 'dna', 'extracted', 'tumor', 'samples', 'paired', 'normal', 'lung', 'tissue', 'primers', 'grouped', 'multiplex', 'combinations', 'shown', 'table', 'marker', 'ds', 'served', 'internal', 'control', 'check', 'consistency', 'pcrs', 'peaks', 'capillary', 'electrophoresis', 'multiplex', 'pcrs', 'carried', 'volume', 'µl', 'contained', 'µl', 'genomic', 'dna', 'ng', 'µm', 'primer', 'µm', 'total', 'primer', 'pair', 'µm', 'dntps', 'x', 'pcr', 'buffer', 'containing', 'mgcl', 'u', 'taq', 'dna', 'polymerase', 'pcr', 'performed', 'abi', 'geneamp', 'pcr', 'system', 'following', 'conditions', 'min', 'c', 'cycles', 'sec', 'c', 'min', 'c', 'min', 'c', 'min', 'c', 'pcr', 'products', 'separated', 'capillary', 'electrophoresis', 'abi', 'xl', 'dna', 'analyzer', 'chromatograms', 'analyzed', 'peak', 'scanner', 'genemapper', 'software', 'applied', 'biosystems', 'allelic', 'alterations', 'area', 'peaks', 'produced', 'dna', 'pcr', 'products', 'quantified', 'allele', 'ratio', 'allelic', 'areas', 'calculated', 'tumor', 'paired', 'normal', 'dna', 'sample', 'qloh', 'allelic', 'ratio', 'tumor', 'peaks', 'divided', 'allelic', 'ratio', 'paired', 'normal', 'sample', 'ccbl', 'least', 'one', 'q', 'marker', 'least', 'two', 'separate', 'experiments', 'sample', 'considered', 'allelic', 'imbalance', 'interpreted', 'loh', 'samples', 'evaluated', 'least', 'two', 'separate', 'experiments', 'samples', 'showing', 'prospective', 'loh', 'ccbl', 'repeated', 'third', 'time', 'included', 'new', 'control', 'marker', 'bax', 'locus', 'data', 'shown', 'chromosome', 'verify', 'integrity', 'sample', 'dna', 'transfection', 'ccbl', 'constructs', 'cell', 'line', 'transfected', 'using', 'fugene', 'hd', 'roche', 'nutley', 'nj', 'reagent', 'according', 'manufacturers', 'instructions', 'eight', 'µg', 'plasmid', 'dna', 'containing', 'either', 'insert', 'empty', 'vector', 'wildtype', 'ccbl', 'snhy', 'ccbl', 'qe', 'ccbl', 'w', 'cbl', 'used', 'transfection', 'well', 'culture', 'plate', 'cells', 'harvested', 'h', 'transfection', 'analyzed', 'expression', 'ccbl', 'knockdown', 'ccbl', 'knockdown', 'performed', 'using', 'lentiviral', 'transduction', 'using', 'mission', 'lentiviral', 'transduction', 'particles', 'sigmaaldrich', 'st', 'louis', 'mo', 'per', 'manufacturers', 'instructions', 'briefly', 'h', 'cellswell', 'seeded', 'well', 'plates', 'infected', 'following', 'day', 'ccbl', 'lentiviral', 'shrna', 'constructs', 'generate', 'stable', 'ccbl', 'knockdown', 'cell', 'lines', 'cells', 'selected', 'days', 'µgml', 'puromycin', 'ccbl', 'levels', 'determined', 'using', 'whole', 'cell', 'lysates', 'immunoblotting', 'anticbl', 'antibody', 'santa', 'cruz', 'biotechnologies', 'santa', 'cruz', 'ca', 'cell', 'viability', 'assay', 'cells', 'transfected', 'described', 'transfection', 'assay', 'fortyeight', 'hours', 'transfection', 'viability', 'cells', 'assessed', 'using', 'trypan', 'blue', 'exclusion', 'wound', 'healing', 'assay', 'cells', 'seeded', 'well', 'plates', 'cultured', 'h', 'confluent', 'medium', 'changed', 'cells', 'transfected', 'described', 'transfection', 'assay', 'twelve', 'hours', 'transfection', 'straight', 'scratch', 'made', 'across', 'cell', 'layer', 'using', 'ml', 'pipette', 'tip', 'cells', 'gently', 'washed', 'pbs', 'remove', 'cellular', 'debris', 'media', 'replaced', 'photographs', 'taken', 'wound', 'region', 'every', 'h', 'h', 'western', 'blot', 'analysis', 'forty', 'eight', 'hours', 'transfection', 'cells', 'collected', 'washed', 'twice', 'x', 'pbs', 'lysed', 'icecold', 'lysis', 'buffer', 'trishcl', 'ph', 'nacl', 'deoxycholic', 'acid', 'mm', 'edta', 'np', 'mm', 'dtt', 'mm', 'phenylmethylsulfonyl', 'fluoride', 'µgml', 'leupeptin', 'µgml', 'aprotinin', 'minutes', 'lysate', 'centrifuged', 'rpm', 'minutes', 'c', 'protein', 'content', 'supernatant', 'measured', 'total', 'cell', 'lysates', 'µgwell', 'separated', 'sdspage', 'electrophoresis', 'gels', 'transferred', 'onto', 'nitrocellulose', 'membranes', 'whatman', 'piscataway', 'nj', 'membranes', 'blocked', 'nonfat', 'dry', 'milk', 'phosphatebuffered', 'saline', 'containing', 'tween', 'pbst', 'x', 'pbs', 'tween', 'h', 'room', 'temperature', 'incubated', 'appropriate', 'primary', 'antibody', 'c', 'overnight', 'membranes', 'washed', 'three', 'times', 'pbst', 'probed', 'appropriate', 'horseradish', 'peroxidase', 'hrpconjugated', 'secondary', 'antibody', 'h', 'room', 'temperature', 'membranes', 'washed', 'three', 'times', 'pbst', 'bands', 'visualized', 'using', 'western', 'blot', 'chemiluminescence', 'reagent', 'biorad', 'valencia', 'ca', 'chemidoc', 'gel', 'documentation', 'system', 'biorad', 'valencia', 'ca', 'antibodies', 'obtained', 'santa', 'cruz', 'biotechnologies', 'used', 'following', 'dilutions', 'ccbl', 'cmet', 'egfr', 'ubiquitin', 'ha', 'βactin', 'flow', 'cytometry', 'cell', 'cycle', 'analysis', 'carried', 'flow', 'cytometry', 'approximately', 'cells', 'grown', 'media', 'containing', 'fbs', 'cells', 'harvested', 'trypsinedta', 'treatment', 'washed', 'x', 'pbs', 'three', 'times', 'fixed', 'icecold', 'ethanol', 'h', 'cells', 'washed', 'cold', 'pbs', 'stained', 'solution', 'containing', 'µgml', 'propidium', 'iodide', 'µgml', 'rnase', 'triton', 'x', 'minutes', 'dark', 'cell', 'cycle', 'analysis', 'performed', 'using', 'guava', 'pca', 'flow', 'cytometer', 'guava', 'technologies', 'millipore', 'billerica', 'ubiquitin', 'ligase', 'activity', 'cells', 'maintained', 'culture', 'dmem', 'supplemented', 'fbs', 'penicillin', 'unitsml', 'streptomycin', 'µgml', 'transfected', 'µg', 'egfrpcdna', 'µg', 'hatagged', 'ccbl', 'constructs', 'indicated', 'using', 'calcium', 'phosphate', 'according', 'manufacturers', 'protocol', 'profection', 'promega', 'madison', 'wi', 'twentyfour', 'hours', 'posttransfection', 'cells', 'starved', 'overnight', 'dmem', 'supplemented', 'fbs', 'treated', 'without', 'egf', 'ngml', 'min', 'cells', 'collected', 'washed', 'two', 'times', 'icecold', 'pbs', 'containing', 'mm', 'sodium', 'orthovanadate', 'lysed', 'icecold', 'lysis', 'buffer', 'mm', 'tris', 'hcl', 'ph', 'mm', 'nacl', 'mm', 'edta', 'triton', 'x', 'glycerol', 'mm', 'sodium', 'orthovanadate', 'protease', 'inhibitors', 'lysates', 'cleared', 'debris', 'centrifugation', 'g', 'min', 'c', 'egfr', 'immunoprecipitations', 'performed', 'µg', 'cleared', 'lysate', 'using', 'ng', 'rabbitantiegfr', 'protein', 'ag', 'plus', 'sepharose', 'overnight', 'c', 'precipitations', 'washed', 'times', 'lysis', 'buffer', 'boiling', 'laemmli', 'buffer', 'elutions', 'immunoblotted', 'antiubiquitin', 'egfr', 'twenty', 'micrograms', 'cleared', 'lysate', 'immunoblotted', 'ccbl', 'constructs', 'using', 'antiha', 'statistical', 'analysis', 'mutation', 'rates', 'different', 'groups', 'compared', 'using', 'fishers', 'exact', 'test', 'continuous', 'variables', 'group', 'comparisons', 'performed', 'using', 'analysis', 'variance', 'anova', 'followed', 'sidaks', 'adjustment', 'multiple', 'comparisons', 'experiments', 'involving', 'repeated', 'measurements', 'time', 'analyzed', 'using', 'repeated', 'measures', 'anova', 'greenhousegeisser', 'adjustment', 'degrees', 'freedom', 'analyses', 'conducted', 'using', 'stata', 'v', 'software', 'stata', 'corporation', 'college', 'station', 'tx', 'go', 'results', 'ccbl', 'gene', 'mutations', 'lung', 'cancer', 'investigate', 'role', 'ccbl', 'lung', 'cancer', 'analyzed', 'genomic', 'dna', 'tumor', 'paired', 'normal', 'samples', 'drawn', 'multiple', 'ethnicities', 'lung', 'tumor', 'samples', 'represented', 'caucasians', 'n', 'africanamericans', 'n', 'taiwanese', 'n', 'lung', 'cancer', 'patients', 'designed', 'pairs', 'primers', 'sequence', 'coding', 'region', 'ccbl', 'gene', 'spans', 'exons', 'table', 'identified', 'unique', 'somatic', 'mutations', 'ccbl', 'exons', 'among', 'different', 'patients', 'variation', 'lf', 'known', 'snp', 'rs', 'exon', 'also', 'detected', 'importantly', 'eight', 'novel', 'nonsynonymous', 'mutations', 'confirmed', 'sequencing', 'strands', 'ccbl', 'genomic', 'dna', 'obtained', 'lung', 'tumor', 'samples', 'table', 'moreover', 'none', 'mutations', 'detected', 'corresponding', 'normal', 'tissue', 'indicating', 'somatic', 'mutations', 'four', 'synonymous', 'single', 'nucleotide', 'variations', 'snvs', 'also', 'identified', 'used', 'study', 'table', 'table', 'ccbl', 'mutation', 'analysis', 'lung', 'cancer', 'patient', 'tumor', 'tissues', 'three', 'novel', 'nonsynonymous', 'mutations', 'located', 'tkb', 'tyrosine', 'kinase', 'binding', 'domain', 'sn', 'hy', 'qe', 'one', 'ring', 'finger', 'domain', 'vi', 'one', 'prolinerich', 'region', 'del', 'atg', 'three', 'cterminal', 'region', 'w', 'rk', 'ccbl', 'protein', 'figure', 'figure', 'figure', 'b', 'show', 'model', 'chromatograms', 'representative', 'samples', 'figure', 'figure', 'ccbl', 'mutations', 'loh', 'nonsmall', 'cell', 'lung', 'cancer', 'q', 'loh', 'ccbl', 'gene', 'paired', 'lung', 'tumor', 'normal', 'lung', 'tissue', 'samples', 'taiwanese', 'patients', 'n', 'investigated', 'loh', 'eight', 'showed', 'loh', 'ccbl', 'locus', 'chromosome', 'samples', 'revealed', 'normal', 'allelic', 'contribution', 'microsatellite', 'markers', 'figures', 'c', 'ccbl', 'mutations', 'different', 'ethnic', 'groups', 'ccbl', 'double', 'mutant', 'snhy', 'found', 'patient', 'overall', 'mutation', 'rate', 'ccbl', 'lung', 'tumors', 'frequency', 'ccbl', 'mutation', 'highest', 'large', 'cell', 'carcinoma', 'patients', 'followed', 'squamous', 'carcinoma', 'patients', 'least', 'observed', 'adenocarcinoma', 'ad', 'patients', 'although', 'rates', 'statistically', 'significant', 'p', 'mutation', 'rates', 'among', 'caucasians', 'ad', 'sq', 'lc', 'africanamericans', 'ad', 'sq', 'lc', 'ad', 'sq', 'lc', 'taiwanese', 'population', 'additionally', 'two', 'taiwanese', 'patients', 'lung', 'cancer', 'one', 'squamous', 'one', 'adenocarcinoma', 'known', 'snp', 'lf', 'ethnic', 'differences', 'statistically', 'significant', 'however', 'power', 'detect', 'differences', 'low', 'mutations', 'met', 'egfr', 'coassociated', 'ccbl', 'alterations', 'since', 'east', 'asians', 'lung', 'cancer', 'higher', 'frequency', 'egfr', 'met', 'mutations', 'lung', 'tumors', 'also', 'determined', 'mutations', 'egfr', 'met', 'taiwanese', 'cohort', 'samples', 'compared', 'results', 'observed', 'ccbl', 'alterations', 'loh', 'andor', 'mutations', 'samples', 'tested', 'find', 'overlap', 'ccbl', 'mutations', 'ccbl', 'loh', 'figure', 'three', 'ccbl', 'mutants', 'including', 'known', 'lf', 'snp', 'rs', 'one', 'samples', 'met', 'mutation', 'ns', 'egfr', 'mutation', 'lr', 'among', 'samples', 'loh', 'ccbl', 'locus', 'additional', 'mutation', 'met', 'ns', 'egfr', 'exon', 'deletion', 'twentysix', 'samples', 'neither', 'ccbl', 'mutation', 'ccbl', 'loh', 'patients', 'ccbl', 'mutation', 'ccbl', 'loh', 'among', 'samples', 'met', 'mutation', 'ns', 'lw', 'egfr', 'mutation', 'exon', 'deletion', 'lr', 'met', 'egfr', 'mutation', 'thus', 'rate', 'met', 'egfr', 'mutations', 'among', 'patients', 'loh', 'ccbl', 'locus', 'similar', 'seen', 'patients', 'without', 'ccbl', 'mutation', 'loh', 'patients', 'p', 'patients', 'identifiable', 'mutation', 'ccbl', 'met', 'egfr', 'represented', 'patients', 'analyzed', 'taiwanese', 'patient', 'cohort', 'conversely', 'taiwanese', 'lung', 'cancer', 'patients', 'identifiable', 'mutation', 'either', 'ccbl', 'met', 'egfr', 'combination', 'three', 'genes', 'figure', 'additionally', 'determined', 'p', 'kras', 'mutations', 'taiwanese', 'cohorts', 'two', 'p', 'kras', 'mutation', 'detected', 'single', 'kras', 'mutation', 'overlapped', 'one', 'p', 'mutation', 'patient', 'also', 'egfr', 'exon', 'deletion', 'ccbl', 'mutation', 'p', 'mutation', 'sample', 'ccbl', 'loh', 'concurrent', 'met', 'ns', 'mutation', 'thus', 'taiwanese', 'samples', 'analyzed', 'pkras', 'mutations', 'ccbl', 'mutations', 'mutually', 'exclusive', 'data', 'shown', 'figure', 'figure', 'ccbl', 'mutations', 'relationship', 'met', 'egfr', 'mutations', 'lung', 'cancer', 'cellular', 'functions', 'ccbl', 'alterations', 'context', 'lung', 'tumorigenesis', 'e', 'activity', 'intact', 'mutant', 'ccbl', 'proteins', 'investigate', 'whether', 'different', 'ccbl', 'mutations', 'affect', 'e', 'activity', 'egfr', 'chosen', 'model', 'substrate', 'ccbl', 'e', 'function', 'ccbl', 'mutants', 'tested', 'enhanced', 'ubiquitination', 'activated', 'egfr', 'similar', 'wildtype', 'ccbl', 'protein', 'result', 'demonstrates', 'catalytic', 'activity', 'ccbl', 'mutants', 'impaired', 'egfr', 'substrate', 'figure', 'figure', 'figure', 'ubiquitination', 'viability', 'expression', 'cell', 'cycle', 'analysis', 'various', 'ccbl', 'mutants', 'b', 'effect', 'lung', 'cancer', 'cell', 'viability', 'effect', 'representative', 'ccbl', 'mutant', 'three', 'ethnic', 'backgrounds', 'lung', 'cancer', 'cell', 'viability', 'cell', 'lines', 'determined', 'snhy', 'double', 'mutation', 'qe', 'w', 'identified', 'lung', 'tumor', 'samples', 'obtained', 'caucasian', 'taiwanese', 'africanamerican', 'respectively', 'described', 'methods', 'ccbl', 'wildtype', 'wt', 'three', 'mutants', 'expressed', 'cloning', 'paltermax', 'vector', 'cells', 'cells', 'express', 'relatively', 'low', 'basal', 'levels', 'endogenous', 'ccbl', 'data', 'shown', 'transfection', 'efficiency', 'comparable', 'different', 'groups', 'number', 'cells', 'transfected', 'ccbl', 'wildtype', 'construct', 'compared', 'control', 'cells', 'transfected', 'empty', 'vector', 'cells', 'transfected', 'snhy', 'qe', 'w', 'ccbl', 'mutant', 'constructs', 'resulted', 'increased', 'number', 'viable', 'cells', 'higher', 'respectively', 'relative', 'empty', 'vector', 'control', 'transfected', 'cells', 'significantly', 'different', 'wildtype', 'construct', 'p', 'p', 'p', 'respectively', 'figure', 'b', 'relative', 'levels', 'ccbl', 'protein', 'whole', 'cell', 'lysates', 'prepared', 'samples', 'obtained', 'parallel', 'experiment', 'determined', 'ccbl', 'protein', 'levels', 'samples', 'representing', 'untransfected', 'empty', 'vector', 'transfected', 'cells', 'comparable', 'representing', 'ccbl', 'wt', 'three', 'ccbl', 'mutants', 'comparable', 'figure', 'c', 'c', 'effect', 'cell', 'cycle', 'investigate', 'increases', 'cell', 'viability', 'different', 'ccbl', 'mutants', 'due', 'increased', 'cellular', 'proliferation', 'cell', 'cycle', 'analysis', 'performed', 'cells', 'transfected', 'ccbl', 'wt', 'three', 'different', 'mutants', 'snhy', 'qe', 'w', 'empty', 'vector', 'transfectant', 'used', 'control', 'fortyeight', 'hours', 'transfection', 'cell', 'cycle', 'analysis', 'performed', 'described', 'materials', 'methods', 'significant', 'change', 'subg', 'g', 'phase', 'cell', 'cycle', 'among', 'different', 'mutants', 'compared', 'wt', 'construct', 'p', 'p', 'p', 'respectively', 'gm', 'phase', 'cell', 'cycle', 'showed', 'increase', 'cell', 'numbers', 'three', 'mutants', 'snhy', 'qe', 'w', 'compared', 'wt', 'difference', 'statistically', 'significant', 'p', 'figure', 'effect', 'cell', 'motility', 'investigate', 'effect', 'expression', 'three', 'ccbl', 'mutants', 'cell', 'migration', 'carried', 'wound', 'healing', 'assay', 'described', 'materials', 'methods', 'closing', 'scratch', 'wound', 'monitored', 'h', 'figure', 'samples', 'represented', 'cells', 'transfected', 'mutants', 'wound', 'gap', 'much', 'smaller', 'seen', 'sample', 'represented', 'cells', 'transfected', 'ccbl', 'wt', 'p', 'also', 'determined', 'rate', 'wound', 'closure', 'five', 'groups', 'h', 'wildtype', 'ccbl', 'transfectants', 'showed', 'open', 'wound', 'snhy', 'qe', 'w', 'mutants', 'showed', 'open', 'wound', 'respectively', 'p', 'figure', 'b', 'figure', 'figure', 'ccbl', 'mutations', 'affect', 'wound', 'healing', 'cells', 'e', 'ccbl', 'knockdown', 'increases', 'cell', 'viability', 'hypothesized', 'loh', 'seen', 'samples', 'could', 'lead', 'decreased', 'expression', 'ccbl', 'thus', 'tested', 'effect', 'ccbl', 'knockdown', 'lung', 'cancer', 'cells', 'compared', 'h', 'lung', 'cancer', 'cells', 'express', 'relatively', 'high', 'levels', 'endogenous', 'ccbl', 'data', 'shown', 'ccbl', 'expression', 'knocked', 'using', 'lentiviral', 'construct', 'expressed', 'ccbl', 'specific', 'shrna', 'compared', 'results', 'transduced', 'scrambled', 'shrna', 'results', 'shown', 'figure', 'identified', 'several', 'clones', 'revealed', 'varying', 'degrees', 'ccbl', 'knockdown', 'showing', 'different', 'sets', 'ccbl', 'lentiviral', 'shrna', 'knockdown', 'efficiency', 'figure', 'clones', 'tested', 'clone', 'chosen', 'experiments', 'equal', 'amount', 'cells', 'seeded', 'well', 'plate', 'cell', 'proliferation', 'measured', 'various', 'times', 'results', 'depicted', 'figure', 'b', 'expected', 'number', 'cells', 'increased', 'time', 'dependent', 'fashion', 'relative', 'scrambled', 'shrna', 'control', 'span', 'h', 'p', 'figure', 'b', 'cell', 'cycle', 'phases', 'h', 'cells', 'knocked', 'ccbl', 'shrna', 'looked', 'compared', 'scrambled', 'shrna', 'discernable', 'differences', 'two', 'constructs', 'different', 'phases', 'cell', 'cycle', 'data', 'shown', 'figure', 'figure', 'knockdown', 'ccbl', 'using', 'shrna', 'increases', 'cell', 'proliferation', 'go', 'discussion', 'results', 'demonstrate', 'ccbl', 'somatically', 'mutated', 'loh', 'lung', 'cancers', 'significantly', 'contribute', 'enhanced', 'cell', 'viability', 'motility', 'also', 'high', 'prevalence', 'loh', 'respect', 'ccbl', 'lung', 'tumors', 'harbored', 'met', 'egfr', 'mutation', 'present', 'study', 'demonstrated', 'occurrence', 'ccbl', 'mutations', 'lung', 'cancer', 'patients', 'especially', 'different', 'ancestral', 'variations', 'mutations', 'ccbl', 'recently', 'reported', 'juvenile', 'myelomonocytic', 'leukemia', 'myeloid', 'malignancies', 'aml', 'study', 'mutation', 'rq', 'located', 'junction', 'ring', 'finger', 'linker', 'region', 'inhibited', 'fmslike', 'tyrosine', 'kinase', 'flt', 'internalization', 'ubiquitination', 'thus', 'contributing', 'gaininfunction', 'rtk', 'addition', 'mutations', 'hy', 'cr', 'lp', 'mapped', 'ring', 'finger', 'domain', 'linker', 'region', 'ccbl', 'required', 'e', 'activity', 'additionally', 'homozygous', 'mutations', 'ring', 'finger', 'domain', 'ccbl', 'gene', 'described', 'result', 'acquired', 'uniparental', 'disomy', 'upd', 'important', 'note', 'results', 'indicate', 'loh', 'q', 'locus', 'mutually', 'exclusive', 'missense', 'mutations', 'ccbl', 'somatic', 'mutations', 'heterozygous', 'mutations', 'aml', 'led', 'abrogation', 'e', 'activity', 'leading', 'prolonged', 'rtk', 'activation', 'addition', 'mutants', 'located', 'linker', 'region', 'surrounding', 'ring', 'finger', 'domain', 'exhibited', 'enhanced', 'akt', 'signaling', 'response', 'cytokine', 'stimulation', 'addition', 'shown', 'nht', 'cells', 'neither', 'mutations', 'ring', 'finger', 'linker', 'region', 'causes', 'transformation', 'however', 'certain', 'mutations', 'perturbs', 'ubiquitination', 'others', 'affect', 'receptor', 'recycling', 'prolong', 'kinase', 'activity', 'report', 'ccbl', 'mutations', 'mapped', 'ring', 'finger', 'domain', 'also', 'tkb', 'domain', 'prolinerich', 'domain', 'cterminal', 'region', 'none', 'mapped', 'linker', 'region', 'reported', 'aml', 'studies', 'described', 'addition', 'mutants', 'detected', 'found', 'different', 'ethnic', 'backgrounds', 'example', 'snhy', 'qe', 'w', 'detected', 'caucasians', 'taiwanese', 'africanamericans', 'respectively', 'results', 'point', 'difference', 'lung', 'cancer', 'cancers', 'also', 'genetic', 'polymorphism', 'among', 'different', 'races', 'cancer', 'interestingly', 'large', 'disparity', 'africanamerican', 'ethnic', 'populations', 'lung', 'cancer', 'previously', 'shown', 'low', 'frequency', 'egfr', 'met', 'mutation', 'africanamericans', 'compared', 'taiwanese', 'caucasians', 'study', 'number', 'africanamerican', 'samples', 'analyzed', 'relatively', 'fewer', 'found', 'mutations', 'unique', 'ethnicity', 'would', 'behoove', 'us', 'study', 'genetic', 'alterations', 'occur', 'determine', 'targeted', 'therapeutics', 'africanamericans', 'results', 'provide', 'evidence', 'importance', 'ccbl', 'tumorigenesis', 'potential', 'signaling', 'prediction', 'based', 'aml', 'data', 'would', 'vi', 'ring', 'finger', 'domain', 'mutation', 'would', 'affect', 'e', 'activity', 'also', 'important', 'determine', 'binding', 'partners', 'ccbl', 'tkb', 'domain', 'proline', 'rich', 'domain', 'mutations', 'previously', 'shown', 'tkb', 'domain', 'bind', 'growth', 'factor', 'receptors', 'important', 'determine', 'crossbinding', 'mutants', 'met', 'egfr', 'would', 'also', 'important', 'future', 'look', 'fluorescence', 'situ', 'hybridizationcopy', 'number', 'changes', 'ccbl', 'lung', 'cancer', 'ccbl', 'plays', 'important', 'role', 'regulating', 'rtkmediated', 'signaling', 'k', 'polyubiquitination', 'subsequent', 'downregulation', 'rtks', 'followed', 'lysosomal', 'degredation', 'monoubiquitination', 'ubiquitinated', 'klinked', 'chains', 'substrates', 'ccbl', 'may', 'lead', 'enhancement', 'biological', 'biochemical', 'functions', 'reviewed', 'hermann', 'et', 'al', 'mutations', 'analyzed', 'studies', 'point', 'fact', 'e', 'activity', 'ccbl', 'egfr', 'intact', 'egfr', 'levels', 'various', 'mutants', 'remain', 'figure', 'multiple', 'kinases', 'rtks', 'nonrtks', 'could', 'acted', 'upon', 'ccbl', 'including', 'erbs', 'pdgfr', 'fms', 'met', 'ckit', 'vegfr', 'flt', 'ron', 'fgfr', 'ir', 'well', 'syk', 'fyn', 'lck', 'fgr', 'lyn', 'cabl', 'lung', 'cancers', 'relevant', 'substrates', 'ccbl', 'terms', 'degradation', 'signal', 'transduction', 'yet', 'identified', 'observation', 'ccbl', 'somatic', 'mutations', 'especially', 'snhy', 'qe', 'w', 'showed', 'increased', 'cell', 'viability', 'cell', 'motility', 'agreement', 'physiological', 'role', 'dcbl', 'regulation', 'apoptosis', 'differentiation', 'identified', 'drosophila', 'significant', 'previously', 'shown', 'activating', 'ccbl', 'mutation', 'downregulates', 'egfr', 'signaling', 'decreases', 'cellular', 'proliferation', 'migration', 'breast', 'cancer', 'cell', 'lines', 'although', 'role', 'ccbl', 'negative', 'regulation', 'rtks', 'well', 'substantiated', 'thereby', 'suggesting', 'natural', 'tumor', 'suppressor', 'studies', 'cancer', 'cells', 'revealed', 'tumor', 'suppressor', 'tumor', 'promoting', 'activities', 'depending', 'type', 'ccbl', 'mutation', 'number', 'alleles', 'ccbl', 'locus', 'agreement', 'three', 'ccbl', 'mutants', 'described', 'appear', 'tumor', 'growth', 'metastasis', 'promoting', 'properties', 'although', 'mutants', 'outside', 'ring', 'finger', 'linker', 'region', 'ccbl', 'downstream', 'effects', 'significant', 'cause', 'increased', 'proliferation', 'migration', 'substrate', 'affected', 'mutations', 'known', 'yet', 'raises', 'possibility', 'cellular', 'functions', 'ccbl', 'independent', 'ubiquitinligase', 'activity', 'area', 'currently', 'investigating', 'oncogenic', 'nature', 'rtks', 'addiction', 'cancers', 'growth', 'signals', 'given', 'clustering', 'ccbl', 'egfr', 'met', 'mutations', 'possible', 'transforming', 'effect', 'ccbl', 'mutations', 'likely', 'combinatorial', 'effect', 'three', 'also', 'show', 'loh', 'ccbl', 'found', 'significant', 'number', 'samples', 'harbored', 'met', 'egfr', 'mutations', 'fact', 'lung', 'tumor', 'samples', 'likely', 'ccbl', 'mutations', 'additional', 'likely', 'harbor', 'ccblrelated', 'loh', 'makes', 'ccbl', 'highly', 'mutated', 'molecule', 'lung', 'cancer', 'since', 'loh', 'alone', 'enough', 'cause', 'transforming', 'event', 'associated', 'mutation', 'met', 'egfr', 'locus', 'yet', 'another', 'rtk', 'discussed', 'may', 'play', 'role', 'carcinogenesis', 'predict', 'loh', 'ccbl', 'results', 'haploinsufficiency', 'downplays', 'rtk', 'ubiquitination', 'leading', 'hyperactivity', 'rtks', 'however', 'whether', 'sufficient', 'cause', 'tumorigenesis', 'remains', 'determined', 'consistent', 'hypothesis', 'fact', 'ccbl', 'mice', 'increased', 'kinase', 'activity', 'lymphocytes', 'sufficient', 'tumor', 'formation', 'ccbl', 'loh', 'could', 'also', 'lead', 'increased', 'expression', 'ccbl', 'allele', 'compensate', 'loss', 'allele', 'alternately', 'could', 'form', 'synergy', 'working', 'reduced', 'ccbl', 'levels', 'mutated', 'receptors', 'exacerbate', 'phenotype', 'alone', 'previous', 'studies', 'lab', 'others', 'shown', 'east', 'asians', 'lung', 'cancers', 'relatively', 'high', 'frequencies', 'gainoffunction', 'mutations', 'rtks', 'egfr', 'met', 'cohort', 'japanese', 'patients', 'activating', 'met', 'mutation', 'identified', 'splice', 'region', 'deletes', 'juxtamembrane', 'domain', 'involved', 'e', 'activity', 'ccbl', 'study', 'also', 'found', 'activation', 'met', 'mutually', 'exclusive', 'egfr', 'kras', 'gene', 'mutations', 'failed', 'detect', 'mutations', 'significant', 'numbers', 'lung', 'tumor', 'samples', 'obtained', 'africanamericans', 'n', 'caucasian', 'n', 'patients', 'one', 'met', 'mutation', 'identified', 'groups', 'whereas', 'egfr', 'mutations', 'identified', 'africanamerican', 'caucasian', 'cohorts', 'respectively', 'egfr', 'mutations', 'earlier', 'identified', 'one', 'key', 'mutations', 'affecting', 'lung', 'adenocarcinoma', 'patients', 'comprehensive', 'study', 'patients', 'study', 'encompasses', 'different', 'histologies', 'nsclc', 'however', 'published', 'series', 'find', 'mutations', 'ccbl', 'met', 'unlike', 'study', 'encompassed', 'different', 'subtypes', 'nsclc', 'important', 'note', 'recently', 'shown', 'met', 'mutations', 'lung', 'cancer', 'majority', 'germline', 'reported', 'earlier', 'ccbl', 'mutations', 'small', 'cohort', 'taiwanese', 'lung', 'cancer', 'samples', 'efforts', 'understand', 'ethnic', 'differences', 'lung', 'oncogenome', 'also', 'looked', 'pax', 'transcription', 'factors', 'pax', 'pax', 'highly', 'expressed', 'lung', 'cancers', 'however', 'preferential', 'expression', 'mutations', 'genes', 'lung', 'tumor', 'samples', 'africanamericans', 'study', 'show', 'relatively', 'high', 'frequency', 'ccbl', 'mutations', 'lung', 'cancers', 'especially', 'large', 'cell', 'type', 'among', 'caucasians', 'particularly', 'among', 'africanamericans', 'therefore', 'propose', 'ccbl', 'efficacious', 'target', 'lung', 'cancers', 'africanamericans', 'needs', 'substantiated', 'important', 'prognosis', 'africanamericans', 'lung', 'cancer', 'especially', 'men', 'much', 'poorer', 'compared', 'caucasian', 'counterparts', 'conclusion', 'results', 'presented', 'study', 'demonstrate', 'ccbl', 'frequently', 'mutated', 'even', 'lost', 'lung', 'cancers', 'results', 'support', 'role', 'ccbl', 'mutants', 'independent', 'ubiquitination', 'activity', 'given', 'relatively', 'high', 'mutation', 'rates', 'ccbl', 'well', 'rtks', 'met', 'egfr', 'likely', 'combined', 'effect', 'could', 'synergistic', 'promoting', 'tumorigenesis'])"
            ]
          },
          "metadata": {
            "tags": []
          },
          "execution_count": 26
        }
      ]
    },
    {
      "cell_type": "code",
      "metadata": {
        "colab": {
          "base_uri": "https://localhost:8080/",
          "height": 200
        },
        "id": "UGQiwuIwUwXN",
        "outputId": "18baa563-fed8-4e9c-f5b6-91d71a3c695e"
      },
      "source": [
        "df_merge[\"text\"] = df_merge[\"text\"].apply(lambda x: TextBlob(x).words)\n",
        "df_merge.head()"
      ],
      "execution_count": 27,
      "outputs": [
        {
          "output_type": "execute_result",
          "data": {
            "text/html": [
              "<div>\n",
              "<style scoped>\n",
              "    .dataframe tbody tr th:only-of-type {\n",
              "        vertical-align: middle;\n",
              "    }\n",
              "\n",
              "    .dataframe tbody tr th {\n",
              "        vertical-align: top;\n",
              "    }\n",
              "\n",
              "    .dataframe thead th {\n",
              "        text-align: right;\n",
              "    }\n",
              "</style>\n",
              "<table border=\"1\" class=\"dataframe\">\n",
              "  <thead>\n",
              "    <tr style=\"text-align: right;\">\n",
              "      <th></th>\n",
              "      <th>id</th>\n",
              "      <th>gene</th>\n",
              "      <th>variation</th>\n",
              "      <th>class</th>\n",
              "      <th>text</th>\n",
              "    </tr>\n",
              "  </thead>\n",
              "  <tbody>\n",
              "    <tr>\n",
              "      <th>0</th>\n",
              "      <td>0</td>\n",
              "      <td>FAM58A</td>\n",
              "      <td>Truncating Mutations</td>\n",
              "      <td>1</td>\n",
              "      <td>[cyclindependent, kinases, cdks, regulate, var...</td>\n",
              "    </tr>\n",
              "    <tr>\n",
              "      <th>1</th>\n",
              "      <td>1</td>\n",
              "      <td>CBL</td>\n",
              "      <td>W802*</td>\n",
              "      <td>2</td>\n",
              "      <td>[abstract, background, nonsmall, cell, lung, c...</td>\n",
              "    </tr>\n",
              "    <tr>\n",
              "      <th>2</th>\n",
              "      <td>2</td>\n",
              "      <td>CBL</td>\n",
              "      <td>Q249E</td>\n",
              "      <td>2</td>\n",
              "      <td>[abstract, background, nonsmall, cell, lung, c...</td>\n",
              "    </tr>\n",
              "    <tr>\n",
              "      <th>3</th>\n",
              "      <td>3</td>\n",
              "      <td>CBL</td>\n",
              "      <td>N454D</td>\n",
              "      <td>3</td>\n",
              "      <td>[recent, evidence, demonstrated, acquired, uni...</td>\n",
              "    </tr>\n",
              "    <tr>\n",
              "      <th>4</th>\n",
              "      <td>4</td>\n",
              "      <td>CBL</td>\n",
              "      <td>L399V</td>\n",
              "      <td>4</td>\n",
              "      <td>[oncogenic, mutations, monomeric, casitas, bli...</td>\n",
              "    </tr>\n",
              "  </tbody>\n",
              "</table>\n",
              "</div>"
            ],
            "text/plain": [
              "   id    gene  ... class                                               text\n",
              "0   0  FAM58A  ...     1  [cyclindependent, kinases, cdks, regulate, var...\n",
              "1   1     CBL  ...     2  [abstract, background, nonsmall, cell, lung, c...\n",
              "2   2     CBL  ...     2  [abstract, background, nonsmall, cell, lung, c...\n",
              "3   3     CBL  ...     3  [recent, evidence, demonstrated, acquired, uni...\n",
              "4   4     CBL  ...     4  [oncogenic, mutations, monomeric, casitas, bli...\n",
              "\n",
              "[5 rows x 5 columns]"
            ]
          },
          "metadata": {
            "tags": []
          },
          "execution_count": 27
        }
      ]
    },
    {
      "cell_type": "markdown",
      "metadata": {
        "id": "00MBtZyZVICr"
      },
      "source": [
        "lemmetization \n",
        "\n",
        "- 예) '아름다운' -> '아름답다'"
      ]
    },
    {
      "cell_type": "code",
      "metadata": {
        "colab": {
          "base_uri": "https://localhost:8080/"
        },
        "id": "IlFs-wo5U0ro",
        "outputId": "3c9803f3-3da9-4681-da42-6c8c544ee319"
      },
      "source": [
        "from textblob import Word\n",
        "nltk.download(\"wordnet\")"
      ],
      "execution_count": 28,
      "outputs": [
        {
          "output_type": "stream",
          "text": [
            "[nltk_data] Downloading package wordnet to /root/nltk_data...\n",
            "[nltk_data]   Unzipping corpora/wordnet.zip.\n"
          ],
          "name": "stdout"
        },
        {
          "output_type": "execute_result",
          "data": {
            "text/plain": [
              "True"
            ]
          },
          "metadata": {
            "tags": []
          },
          "execution_count": 28
        }
      ]
    },
    {
      "cell_type": "code",
      "metadata": {
        "colab": {
          "base_uri": "https://localhost:8080/",
          "height": 200
        },
        "id": "Ogb1xAuwVO4k",
        "outputId": "ffbb66db-e6ad-4a41-96ce-c3aff273ba59"
      },
      "source": [
        "df_merge[\"text\"] = df_merge[\"text\"].apply(lambda x: \" \".join(Word(word).lemmatize() for word in x))\n",
        "df_merge.head()"
      ],
      "execution_count": 29,
      "outputs": [
        {
          "output_type": "execute_result",
          "data": {
            "text/html": [
              "<div>\n",
              "<style scoped>\n",
              "    .dataframe tbody tr th:only-of-type {\n",
              "        vertical-align: middle;\n",
              "    }\n",
              "\n",
              "    .dataframe tbody tr th {\n",
              "        vertical-align: top;\n",
              "    }\n",
              "\n",
              "    .dataframe thead th {\n",
              "        text-align: right;\n",
              "    }\n",
              "</style>\n",
              "<table border=\"1\" class=\"dataframe\">\n",
              "  <thead>\n",
              "    <tr style=\"text-align: right;\">\n",
              "      <th></th>\n",
              "      <th>id</th>\n",
              "      <th>gene</th>\n",
              "      <th>variation</th>\n",
              "      <th>class</th>\n",
              "      <th>text</th>\n",
              "    </tr>\n",
              "  </thead>\n",
              "  <tbody>\n",
              "    <tr>\n",
              "      <th>0</th>\n",
              "      <td>0</td>\n",
              "      <td>FAM58A</td>\n",
              "      <td>Truncating Mutations</td>\n",
              "      <td>1</td>\n",
              "      <td>cyclindependent kinase cdks regulate variety f...</td>\n",
              "    </tr>\n",
              "    <tr>\n",
              "      <th>1</th>\n",
              "      <td>1</td>\n",
              "      <td>CBL</td>\n",
              "      <td>W802*</td>\n",
              "      <td>2</td>\n",
              "      <td>abstract background nonsmall cell lung cancer ...</td>\n",
              "    </tr>\n",
              "    <tr>\n",
              "      <th>2</th>\n",
              "      <td>2</td>\n",
              "      <td>CBL</td>\n",
              "      <td>Q249E</td>\n",
              "      <td>2</td>\n",
              "      <td>abstract background nonsmall cell lung cancer ...</td>\n",
              "    </tr>\n",
              "    <tr>\n",
              "      <th>3</th>\n",
              "      <td>3</td>\n",
              "      <td>CBL</td>\n",
              "      <td>N454D</td>\n",
              "      <td>3</td>\n",
              "      <td>recent evidence demonstrated acquired uniparen...</td>\n",
              "    </tr>\n",
              "    <tr>\n",
              "      <th>4</th>\n",
              "      <td>4</td>\n",
              "      <td>CBL</td>\n",
              "      <td>L399V</td>\n",
              "      <td>4</td>\n",
              "      <td>oncogenic mutation monomeric casitas blineage ...</td>\n",
              "    </tr>\n",
              "  </tbody>\n",
              "</table>\n",
              "</div>"
            ],
            "text/plain": [
              "   id    gene  ... class                                               text\n",
              "0   0  FAM58A  ...     1  cyclindependent kinase cdks regulate variety f...\n",
              "1   1     CBL  ...     2  abstract background nonsmall cell lung cancer ...\n",
              "2   2     CBL  ...     2  abstract background nonsmall cell lung cancer ...\n",
              "3   3     CBL  ...     3  recent evidence demonstrated acquired uniparen...\n",
              "4   4     CBL  ...     4  oncogenic mutation monomeric casitas blineage ...\n",
              "\n",
              "[5 rows x 5 columns]"
            ]
          },
          "metadata": {
            "tags": []
          },
          "execution_count": 29
        }
      ]
    },
    {
      "cell_type": "code",
      "metadata": {
        "id": "NhgmlfAgVQ-B"
      },
      "source": [
        "df_merge.to_pickle(\"clean_text.pkl\")"
      ],
      "execution_count": 30,
      "outputs": []
    },
    {
      "cell_type": "markdown",
      "metadata": {
        "id": "NVFnzrxWVX0f"
      },
      "source": [
        "데이터셋 나누기"
      ]
    },
    {
      "cell_type": "code",
      "metadata": {
        "id": "VIVQ_vPjVW3I"
      },
      "source": [
        "train_x, test_x, train_y, test_y = model_selection.train_test_split(df_merge[[\"gene\",\"variation\",\"text\"]],\n",
        "                                                                    df_merge[\"class\"], \n",
        "                                                                    random_state = 7,\n",
        "                                                                    stratify=df_merge[\"class\"],\n",
        "                                                                    test_size=0.2)"
      ],
      "execution_count": 31,
      "outputs": []
    },
    {
      "cell_type": "code",
      "metadata": {
        "colab": {
          "base_uri": "https://localhost:8080/"
        },
        "id": "o1P0tPi8Vcwx",
        "outputId": "b05d4688-f71d-4ad1-c921-89d5cc62a7d4"
      },
      "source": [
        "train_x.shape, test_x.shape, train_y.shape, test_y.shape"
      ],
      "execution_count": 32,
      "outputs": [
        {
          "output_type": "execute_result",
          "data": {
            "text/plain": [
              "((2656, 3), (665, 3), (2656,), (665,))"
            ]
          },
          "metadata": {
            "tags": []
          },
          "execution_count": 32
        }
      ]
    },
    {
      "cell_type": "code",
      "metadata": {
        "colab": {
          "base_uri": "https://localhost:8080/",
          "height": 200
        },
        "id": "5aba3icEVeO3",
        "outputId": "0fa7a268-29d1-4b82-ab79-cf6f372f1a44"
      },
      "source": [
        "train_x.head()"
      ],
      "execution_count": 33,
      "outputs": [
        {
          "output_type": "execute_result",
          "data": {
            "text/html": [
              "<div>\n",
              "<style scoped>\n",
              "    .dataframe tbody tr th:only-of-type {\n",
              "        vertical-align: middle;\n",
              "    }\n",
              "\n",
              "    .dataframe tbody tr th {\n",
              "        vertical-align: top;\n",
              "    }\n",
              "\n",
              "    .dataframe thead th {\n",
              "        text-align: right;\n",
              "    }\n",
              "</style>\n",
              "<table border=\"1\" class=\"dataframe\">\n",
              "  <thead>\n",
              "    <tr style=\"text-align: right;\">\n",
              "      <th></th>\n",
              "      <th>gene</th>\n",
              "      <th>variation</th>\n",
              "      <th>text</th>\n",
              "    </tr>\n",
              "  </thead>\n",
              "  <tbody>\n",
              "    <tr>\n",
              "      <th>2874</th>\n",
              "      <td>BRCA2</td>\n",
              "      <td>D1420Y</td>\n",
              "      <td>brca dy</td>\n",
              "    </tr>\n",
              "    <tr>\n",
              "      <th>3242</th>\n",
              "      <td>DDR2</td>\n",
              "      <td>G253C</td>\n",
              "      <td>ddr gc</td>\n",
              "    </tr>\n",
              "    <tr>\n",
              "      <th>2942</th>\n",
              "      <td>GNA11</td>\n",
              "      <td>Q209L</td>\n",
              "      <td>gna ql</td>\n",
              "    </tr>\n",
              "    <tr>\n",
              "      <th>2347</th>\n",
              "      <td>JAK2</td>\n",
              "      <td>I1018W</td>\n",
              "      <td>jak iw</td>\n",
              "    </tr>\n",
              "    <tr>\n",
              "      <th>1043</th>\n",
              "      <td>TSC2</td>\n",
              "      <td>L493P</td>\n",
              "      <td>tsc lp</td>\n",
              "    </tr>\n",
              "  </tbody>\n",
              "</table>\n",
              "</div>"
            ],
            "text/plain": [
              "       gene variation     text\n",
              "2874  BRCA2    D1420Y  brca dy\n",
              "3242   DDR2     G253C   ddr gc\n",
              "2942  GNA11     Q209L   gna ql\n",
              "2347   JAK2    I1018W   jak iw\n",
              "1043   TSC2     L493P   tsc lp"
            ]
          },
          "metadata": {
            "tags": []
          },
          "execution_count": 33
        }
      ]
    },
    {
      "cell_type": "markdown",
      "metadata": {
        "id": "X4PoUpzdVh_b"
      },
      "source": [
        "TF-IDF    (단어빈도-역문서빈도)\n",
        "\n",
        "- 여러 문서군에서 어떤 단어가 특정 문서 내에서 얼마나 중요한지를 나타내는 통계적 수치\n",
        "\n",
        "- 각 단어의 중요도를 가중치로 부여 "
      ]
    },
    {
      "cell_type": "code",
      "metadata": {
        "colab": {
          "base_uri": "https://localhost:8080/"
        },
        "id": "R-7qUV2KVfYp",
        "outputId": "f11937dc-b672-4770-db34-f3bfef922feb"
      },
      "source": [
        "# tf-idf-word-vectorizer 정의\n",
        "\n",
        "tf_idf_word_vectorizer = TfidfVectorizer()\n",
        "tf_idf_word_vectorizer.fit(train_x.text)"
      ],
      "execution_count": 35,
      "outputs": [
        {
          "output_type": "execute_result",
          "data": {
            "text/plain": [
              "TfidfVectorizer(analyzer='word', binary=False, decode_error='strict',\n",
              "                dtype=<class 'numpy.float64'>, encoding='utf-8',\n",
              "                input='content', lowercase=True, max_df=1.0, max_features=None,\n",
              "                min_df=1, ngram_range=(1, 1), norm='l2', preprocessor=None,\n",
              "                smooth_idf=True, stop_words=None, strip_accents=None,\n",
              "                sublinear_tf=False, token_pattern='(?u)\\\\b\\\\w\\\\w+\\\\b',\n",
              "                tokenizer=None, use_idf=True, vocabulary=None)"
            ]
          },
          "metadata": {
            "tags": []
          },
          "execution_count": 35
        }
      ]
    },
    {
      "cell_type": "code",
      "metadata": {
        "colab": {
          "base_uri": "https://localhost:8080/"
        },
        "id": "N02F3pVAWEGS",
        "outputId": "2d6f66fd-9e06-4a3e-a091-39a51c6d5b67"
      },
      "source": [
        "tf_idf_word_vectorizer.get_feature_names()[0:5]"
      ],
      "execution_count": 36,
      "outputs": [
        {
          "output_type": "execute_result",
          "data": {
            "text/plain": [
              "['a__p', 'a_ginsga', 'a_ginsyvma', 'a_sinstla', 'a_vdupasv']"
            ]
          },
          "metadata": {
            "tags": []
          },
          "execution_count": 36
        }
      ]
    },
    {
      "cell_type": "code",
      "metadata": {
        "colab": {
          "base_uri": "https://localhost:8080/"
        },
        "id": "1qIz6T3RWcdx",
        "outputId": "17993e22-1070-4d7d-b7ce-c05924100ac7"
      },
      "source": [
        "len(tf_idf_word_vectorizer.get_feature_names())"
      ],
      "execution_count": 37,
      "outputs": [
        {
          "output_type": "execute_result",
          "data": {
            "text/plain": [
              "39840"
            ]
          },
          "metadata": {
            "tags": []
          },
          "execution_count": 37
        }
      ]
    },
    {
      "cell_type": "code",
      "metadata": {
        "id": "fQhvzxImWfB5"
      },
      "source": [
        "x_train_tf_idf_word = tf_idf_word_vectorizer.transform(train_x.text)\n",
        "x_test_tf_idf_word = tf_idf_word_vectorizer.transform(test_x.text)"
      ],
      "execution_count": 38,
      "outputs": []
    },
    {
      "cell_type": "markdown",
      "metadata": {
        "id": "v90I-K6dW3Z8"
      },
      "source": [
        "로지스틱 회귀 모델 정의\n",
        "\n",
        "- 범주형 변수 예측 모델 --> 초평면으로 데이터 포인트의 범주를 분류 \n",
        "- 다항로지스틱 회귀 모델은 입력 벡터 x를 k개의 각각의 클래스로 분류 \n",
        "- 입력: x값 -> 출력: 0~1 사이의 확률값 "
      ]
    },
    {
      "cell_type": "code",
      "metadata": {
        "id": "dXo7qlirWhxA"
      },
      "source": [
        "# 로지스틱 회귀 모델 (범주형 변수 예측 모델) 정의\n",
        "loj = LogisticRegression()\n",
        "loj_model = loj.fit(x_train_tf_idf_word, train_y)"
      ],
      "execution_count": 39,
      "outputs": []
    },
    {
      "cell_type": "code",
      "metadata": {
        "id": "3rn_w007XTbY"
      },
      "source": [
        "from sklearn import model_selection, preprocessing, linear_model, naive_bayes, metrics"
      ],
      "execution_count": 40,
      "outputs": []
    },
    {
      "cell_type": "code",
      "metadata": {
        "colab": {
          "base_uri": "https://localhost:8080/"
        },
        "id": "XNbCN5ONX9ps",
        "outputId": "442fe1e1-176c-4f87-cac0-ecd43499e513"
      },
      "source": [
        "# 로지스틱 회귀 모델의 정확도를 평가해보자\n",
        "\n",
        "accuracy = model_selection.cross_val_score(loj_model, \n",
        "                                           x_test_tf_idf_word, \n",
        "                                           test_y, \n",
        "                                           cv = 10).mean()\n",
        "\n",
        "print(\"Count Vectors Doğruluk Oranı:\", accuracy) #정확도가 굉장히 낮다"
      ],
      "execution_count": 41,
      "outputs": [
        {
          "output_type": "stream",
          "text": [
            "Count Vectors Doğruluk Oranı: 0.5218453188602442\n"
          ],
          "name": "stdout"
        }
      ]
    },
    {
      "cell_type": "code",
      "metadata": {
        "colab": {
          "base_uri": "https://localhost:8080/",
          "height": 200
        },
        "id": "2VouNll1X_Yy",
        "outputId": "121e9c5f-a10c-4ce5-fdb5-6e9ecd14e3ca"
      },
      "source": [
        "train_x.head()"
      ],
      "execution_count": 42,
      "outputs": [
        {
          "output_type": "execute_result",
          "data": {
            "text/html": [
              "<div>\n",
              "<style scoped>\n",
              "    .dataframe tbody tr th:only-of-type {\n",
              "        vertical-align: middle;\n",
              "    }\n",
              "\n",
              "    .dataframe tbody tr th {\n",
              "        vertical-align: top;\n",
              "    }\n",
              "\n",
              "    .dataframe thead th {\n",
              "        text-align: right;\n",
              "    }\n",
              "</style>\n",
              "<table border=\"1\" class=\"dataframe\">\n",
              "  <thead>\n",
              "    <tr style=\"text-align: right;\">\n",
              "      <th></th>\n",
              "      <th>gene</th>\n",
              "      <th>variation</th>\n",
              "      <th>text</th>\n",
              "    </tr>\n",
              "  </thead>\n",
              "  <tbody>\n",
              "    <tr>\n",
              "      <th>2874</th>\n",
              "      <td>BRCA2</td>\n",
              "      <td>D1420Y</td>\n",
              "      <td>brca dy</td>\n",
              "    </tr>\n",
              "    <tr>\n",
              "      <th>3242</th>\n",
              "      <td>DDR2</td>\n",
              "      <td>G253C</td>\n",
              "      <td>ddr gc</td>\n",
              "    </tr>\n",
              "    <tr>\n",
              "      <th>2942</th>\n",
              "      <td>GNA11</td>\n",
              "      <td>Q209L</td>\n",
              "      <td>gna ql</td>\n",
              "    </tr>\n",
              "    <tr>\n",
              "      <th>2347</th>\n",
              "      <td>JAK2</td>\n",
              "      <td>I1018W</td>\n",
              "      <td>jak iw</td>\n",
              "    </tr>\n",
              "    <tr>\n",
              "      <th>1043</th>\n",
              "      <td>TSC2</td>\n",
              "      <td>L493P</td>\n",
              "      <td>tsc lp</td>\n",
              "    </tr>\n",
              "  </tbody>\n",
              "</table>\n",
              "</div>"
            ],
            "text/plain": [
              "       gene variation     text\n",
              "2874  BRCA2    D1420Y  brca dy\n",
              "3242   DDR2     G253C   ddr gc\n",
              "2942  GNA11     Q209L   gna ql\n",
              "2347   JAK2    I1018W   jak iw\n",
              "1043   TSC2     L493P   tsc lp"
            ]
          },
          "metadata": {
            "tags": []
          },
          "execution_count": 42
        }
      ]
    },
    {
      "cell_type": "code",
      "metadata": {
        "colab": {
          "base_uri": "https://localhost:8080/"
        },
        "id": "4ZW1VYbpYhyS",
        "outputId": "95592a1f-15a9-423b-bf52-8ff9040bba4f"
      },
      "source": [
        "train_y.head()"
      ],
      "execution_count": 43,
      "outputs": [
        {
          "output_type": "execute_result",
          "data": {
            "text/plain": [
              "2874    6\n",
              "3242    7\n",
              "2942    7\n",
              "2347    6\n",
              "1043    7\n",
              "Name: class, dtype: int64"
            ]
          },
          "metadata": {
            "tags": []
          },
          "execution_count": 43
        }
      ]
    },
    {
      "cell_type": "code",
      "metadata": {
        "colab": {
          "base_uri": "https://localhost:8080/",
          "height": 200
        },
        "id": "4RG_VBuGYkIe",
        "outputId": "2e4aa86b-3143-4272-e450-c301b7662b72"
      },
      "source": [
        "test_x.head()"
      ],
      "execution_count": 44,
      "outputs": [
        {
          "output_type": "execute_result",
          "data": {
            "text/html": [
              "<div>\n",
              "<style scoped>\n",
              "    .dataframe tbody tr th:only-of-type {\n",
              "        vertical-align: middle;\n",
              "    }\n",
              "\n",
              "    .dataframe tbody tr th {\n",
              "        vertical-align: top;\n",
              "    }\n",
              "\n",
              "    .dataframe thead th {\n",
              "        text-align: right;\n",
              "    }\n",
              "</style>\n",
              "<table border=\"1\" class=\"dataframe\">\n",
              "  <thead>\n",
              "    <tr style=\"text-align: right;\">\n",
              "      <th></th>\n",
              "      <th>gene</th>\n",
              "      <th>variation</th>\n",
              "      <th>text</th>\n",
              "    </tr>\n",
              "  </thead>\n",
              "  <tbody>\n",
              "    <tr>\n",
              "      <th>2937</th>\n",
              "      <td>BTK</td>\n",
              "      <td>Y551F</td>\n",
              "      <td>btk yf</td>\n",
              "    </tr>\n",
              "    <tr>\n",
              "      <th>609</th>\n",
              "      <td>CDK4</td>\n",
              "      <td>Amplification</td>\n",
              "      <td>cdk amplification</td>\n",
              "    </tr>\n",
              "    <tr>\n",
              "      <th>2973</th>\n",
              "      <td>KIT</td>\n",
              "      <td>Y578C</td>\n",
              "      <td>kit yc</td>\n",
              "    </tr>\n",
              "    <tr>\n",
              "      <th>1302</th>\n",
              "      <td>MLH1</td>\n",
              "      <td>R100*</td>\n",
              "      <td>mlh r</td>\n",
              "    </tr>\n",
              "    <tr>\n",
              "      <th>814</th>\n",
              "      <td>ERCC2</td>\n",
              "      <td>P463L</td>\n",
              "      <td>ercc pl</td>\n",
              "    </tr>\n",
              "  </tbody>\n",
              "</table>\n",
              "</div>"
            ],
            "text/plain": [
              "       gene      variation               text\n",
              "2937    BTK          Y551F             btk yf\n",
              "609    CDK4  Amplification  cdk amplification\n",
              "2973    KIT          Y578C             kit yc\n",
              "1302   MLH1          R100*              mlh r\n",
              "814   ERCC2          P463L            ercc pl"
            ]
          },
          "metadata": {
            "tags": []
          },
          "execution_count": 44
        }
      ]
    },
    {
      "cell_type": "code",
      "metadata": {
        "colab": {
          "base_uri": "https://localhost:8080/",
          "height": 200
        },
        "id": "EAO8Uu1pYldp",
        "outputId": "c9ce9e6c-94a1-4623-fe61-6a3d00e41f8d"
      },
      "source": [
        "df_merge.head()"
      ],
      "execution_count": 45,
      "outputs": [
        {
          "output_type": "execute_result",
          "data": {
            "text/html": [
              "<div>\n",
              "<style scoped>\n",
              "    .dataframe tbody tr th:only-of-type {\n",
              "        vertical-align: middle;\n",
              "    }\n",
              "\n",
              "    .dataframe tbody tr th {\n",
              "        vertical-align: top;\n",
              "    }\n",
              "\n",
              "    .dataframe thead th {\n",
              "        text-align: right;\n",
              "    }\n",
              "</style>\n",
              "<table border=\"1\" class=\"dataframe\">\n",
              "  <thead>\n",
              "    <tr style=\"text-align: right;\">\n",
              "      <th></th>\n",
              "      <th>id</th>\n",
              "      <th>gene</th>\n",
              "      <th>variation</th>\n",
              "      <th>class</th>\n",
              "      <th>text</th>\n",
              "    </tr>\n",
              "  </thead>\n",
              "  <tbody>\n",
              "    <tr>\n",
              "      <th>0</th>\n",
              "      <td>0</td>\n",
              "      <td>FAM58A</td>\n",
              "      <td>Truncating Mutations</td>\n",
              "      <td>1</td>\n",
              "      <td>cyclindependent kinase cdks regulate variety f...</td>\n",
              "    </tr>\n",
              "    <tr>\n",
              "      <th>1</th>\n",
              "      <td>1</td>\n",
              "      <td>CBL</td>\n",
              "      <td>W802*</td>\n",
              "      <td>2</td>\n",
              "      <td>abstract background nonsmall cell lung cancer ...</td>\n",
              "    </tr>\n",
              "    <tr>\n",
              "      <th>2</th>\n",
              "      <td>2</td>\n",
              "      <td>CBL</td>\n",
              "      <td>Q249E</td>\n",
              "      <td>2</td>\n",
              "      <td>abstract background nonsmall cell lung cancer ...</td>\n",
              "    </tr>\n",
              "    <tr>\n",
              "      <th>3</th>\n",
              "      <td>3</td>\n",
              "      <td>CBL</td>\n",
              "      <td>N454D</td>\n",
              "      <td>3</td>\n",
              "      <td>recent evidence demonstrated acquired uniparen...</td>\n",
              "    </tr>\n",
              "    <tr>\n",
              "      <th>4</th>\n",
              "      <td>4</td>\n",
              "      <td>CBL</td>\n",
              "      <td>L399V</td>\n",
              "      <td>4</td>\n",
              "      <td>oncogenic mutation monomeric casitas blineage ...</td>\n",
              "    </tr>\n",
              "  </tbody>\n",
              "</table>\n",
              "</div>"
            ],
            "text/plain": [
              "   id    gene  ... class                                               text\n",
              "0   0  FAM58A  ...     1  cyclindependent kinase cdks regulate variety f...\n",
              "1   1     CBL  ...     2  abstract background nonsmall cell lung cancer ...\n",
              "2   2     CBL  ...     2  abstract background nonsmall cell lung cancer ...\n",
              "3   3     CBL  ...     3  recent evidence demonstrated acquired uniparen...\n",
              "4   4     CBL  ...     4  oncogenic mutation monomeric casitas blineage ...\n",
              "\n",
              "[5 rows x 5 columns]"
            ]
          },
          "metadata": {
            "tags": []
          },
          "execution_count": 45
        }
      ]
    },
    {
      "cell_type": "code",
      "metadata": {
        "colab": {
          "base_uri": "https://localhost:8080/"
        },
        "id": "ysqWcbLAYnRW",
        "outputId": "8be1969f-bec6-4803-b85c-fb990973b1e8"
      },
      "source": [
        "df_merge.shape"
      ],
      "execution_count": 46,
      "outputs": [
        {
          "output_type": "execute_result",
          "data": {
            "text/plain": [
              "(3321, 5)"
            ]
          },
          "metadata": {
            "tags": []
          },
          "execution_count": 46
        }
      ]
    },
    {
      "cell_type": "code",
      "metadata": {
        "colab": {
          "base_uri": "https://localhost:8080/"
        },
        "id": "0Fx6C2wgYojX",
        "outputId": "81d38f2d-4cc1-44d9-ce5b-b128495c4b15"
      },
      "source": [
        "df_merge.dtypes"
      ],
      "execution_count": 47,
      "outputs": [
        {
          "output_type": "execute_result",
          "data": {
            "text/plain": [
              "id            int64\n",
              "gene         object\n",
              "variation    object\n",
              "class         int64\n",
              "text         object\n",
              "dtype: object"
            ]
          },
          "metadata": {
            "tags": []
          },
          "execution_count": 47
        }
      ]
    },
    {
      "cell_type": "code",
      "metadata": {
        "id": "JaQ-jZ1SYstl"
      },
      "source": [
        "gene_enc = pd.get_dummies(df_merge[\"gene\"],drop_first=True)"
      ],
      "execution_count": 48,
      "outputs": []
    },
    {
      "cell_type": "code",
      "metadata": {
        "id": "WhJjM-QFYtUu"
      },
      "source": [
        "variation_enc = pd.get_dummies(df_merge[\"variation\"],drop_first=True)"
      ],
      "execution_count": 49,
      "outputs": []
    },
    {
      "cell_type": "code",
      "metadata": {
        "id": "pDO41Na8Yucr"
      },
      "source": [
        "df_enc = pd.concat([gene_enc,variation_enc],axis=1)"
      ],
      "execution_count": 50,
      "outputs": []
    },
    {
      "cell_type": "code",
      "metadata": {
        "colab": {
          "base_uri": "https://localhost:8080/",
          "height": 283
        },
        "id": "aou2RFHaYv2D",
        "outputId": "252f1ad2-7d88-4a59-e140-dc90436733c4"
      },
      "source": [
        "df_enc2 = pd.concat([df_merge[\"class\"],df_enc],axis=1)\n",
        "df_enc2.head()"
      ],
      "execution_count": 51,
      "outputs": [
        {
          "output_type": "execute_result",
          "data": {
            "text/html": [
              "<div>\n",
              "<style scoped>\n",
              "    .dataframe tbody tr th:only-of-type {\n",
              "        vertical-align: middle;\n",
              "    }\n",
              "\n",
              "    .dataframe tbody tr th {\n",
              "        vertical-align: top;\n",
              "    }\n",
              "\n",
              "    .dataframe thead th {\n",
              "        text-align: right;\n",
              "    }\n",
              "</style>\n",
              "<table border=\"1\" class=\"dataframe\">\n",
              "  <thead>\n",
              "    <tr style=\"text-align: right;\">\n",
              "      <th></th>\n",
              "      <th>class</th>\n",
              "      <th>ACVR1</th>\n",
              "      <th>AGO2</th>\n",
              "      <th>AKT1</th>\n",
              "      <th>AKT2</th>\n",
              "      <th>AKT3</th>\n",
              "      <th>ALK</th>\n",
              "      <th>APC</th>\n",
              "      <th>AR</th>\n",
              "      <th>ARAF</th>\n",
              "      <th>ARID1A</th>\n",
              "      <th>ARID1B</th>\n",
              "      <th>ARID2</th>\n",
              "      <th>ARID5B</th>\n",
              "      <th>ASXL1</th>\n",
              "      <th>ASXL2</th>\n",
              "      <th>ATM</th>\n",
              "      <th>ATR</th>\n",
              "      <th>ATRX</th>\n",
              "      <th>AURKA</th>\n",
              "      <th>AURKB</th>\n",
              "      <th>AXIN1</th>\n",
              "      <th>AXL</th>\n",
              "      <th>B2M</th>\n",
              "      <th>BAP1</th>\n",
              "      <th>BARD1</th>\n",
              "      <th>BCL10</th>\n",
              "      <th>BCL2</th>\n",
              "      <th>BCL2L11</th>\n",
              "      <th>BCOR</th>\n",
              "      <th>BRAF</th>\n",
              "      <th>BRCA1</th>\n",
              "      <th>BRCA2</th>\n",
              "      <th>BRD4</th>\n",
              "      <th>BRIP1</th>\n",
              "      <th>BTK</th>\n",
              "      <th>CARD11</th>\n",
              "      <th>CARM1</th>\n",
              "      <th>CASP8</th>\n",
              "      <th>CBL</th>\n",
              "      <th>...</th>\n",
              "      <th>Y599_D600insGLYVDFREYEY</th>\n",
              "      <th>Y599_D600insPAPQIMSTSTLISENMNIA</th>\n",
              "      <th>Y599_D600insSTDNEYFYVDFREYEY</th>\n",
              "      <th>Y62C</th>\n",
              "      <th>Y63C</th>\n",
              "      <th>Y640F</th>\n",
              "      <th>Y646C</th>\n",
              "      <th>Y646F</th>\n",
              "      <th>Y646H</th>\n",
              "      <th>Y646N</th>\n",
              "      <th>Y646S</th>\n",
              "      <th>Y647C</th>\n",
              "      <th>Y64A</th>\n",
              "      <th>Y652H</th>\n",
              "      <th>Y65C</th>\n",
              "      <th>Y68D</th>\n",
              "      <th>Y68H</th>\n",
              "      <th>Y69H</th>\n",
              "      <th>Y772_A775dup</th>\n",
              "      <th>Y791F</th>\n",
              "      <th>Y801H</th>\n",
              "      <th>Y803N</th>\n",
              "      <th>Y806C</th>\n",
              "      <th>Y823D</th>\n",
              "      <th>Y835F</th>\n",
              "      <th>Y842C</th>\n",
              "      <th>Y846C</th>\n",
              "      <th>Y849C</th>\n",
              "      <th>Y849S</th>\n",
              "      <th>Y87C</th>\n",
              "      <th>Y87N</th>\n",
              "      <th>Y901C</th>\n",
              "      <th>Y931C</th>\n",
              "      <th>Y98H</th>\n",
              "      <th>Y98N</th>\n",
              "      <th>YAP1-FAM118B Fusion</th>\n",
              "      <th>YAP1-MAMLD1 Fusion</th>\n",
              "      <th>ZC3H7B-BCOR Fusion</th>\n",
              "      <th>ZNF198-FGFR1 Fusion</th>\n",
              "      <th>p61BRAF</th>\n",
              "    </tr>\n",
              "  </thead>\n",
              "  <tbody>\n",
              "    <tr>\n",
              "      <th>0</th>\n",
              "      <td>1</td>\n",
              "      <td>0</td>\n",
              "      <td>0</td>\n",
              "      <td>0</td>\n",
              "      <td>0</td>\n",
              "      <td>0</td>\n",
              "      <td>0</td>\n",
              "      <td>0</td>\n",
              "      <td>0</td>\n",
              "      <td>0</td>\n",
              "      <td>0</td>\n",
              "      <td>0</td>\n",
              "      <td>0</td>\n",
              "      <td>0</td>\n",
              "      <td>0</td>\n",
              "      <td>0</td>\n",
              "      <td>0</td>\n",
              "      <td>0</td>\n",
              "      <td>0</td>\n",
              "      <td>0</td>\n",
              "      <td>0</td>\n",
              "      <td>0</td>\n",
              "      <td>0</td>\n",
              "      <td>0</td>\n",
              "      <td>0</td>\n",
              "      <td>0</td>\n",
              "      <td>0</td>\n",
              "      <td>0</td>\n",
              "      <td>0</td>\n",
              "      <td>0</td>\n",
              "      <td>0</td>\n",
              "      <td>0</td>\n",
              "      <td>0</td>\n",
              "      <td>0</td>\n",
              "      <td>0</td>\n",
              "      <td>0</td>\n",
              "      <td>0</td>\n",
              "      <td>0</td>\n",
              "      <td>0</td>\n",
              "      <td>0</td>\n",
              "      <td>...</td>\n",
              "      <td>0</td>\n",
              "      <td>0</td>\n",
              "      <td>0</td>\n",
              "      <td>0</td>\n",
              "      <td>0</td>\n",
              "      <td>0</td>\n",
              "      <td>0</td>\n",
              "      <td>0</td>\n",
              "      <td>0</td>\n",
              "      <td>0</td>\n",
              "      <td>0</td>\n",
              "      <td>0</td>\n",
              "      <td>0</td>\n",
              "      <td>0</td>\n",
              "      <td>0</td>\n",
              "      <td>0</td>\n",
              "      <td>0</td>\n",
              "      <td>0</td>\n",
              "      <td>0</td>\n",
              "      <td>0</td>\n",
              "      <td>0</td>\n",
              "      <td>0</td>\n",
              "      <td>0</td>\n",
              "      <td>0</td>\n",
              "      <td>0</td>\n",
              "      <td>0</td>\n",
              "      <td>0</td>\n",
              "      <td>0</td>\n",
              "      <td>0</td>\n",
              "      <td>0</td>\n",
              "      <td>0</td>\n",
              "      <td>0</td>\n",
              "      <td>0</td>\n",
              "      <td>0</td>\n",
              "      <td>0</td>\n",
              "      <td>0</td>\n",
              "      <td>0</td>\n",
              "      <td>0</td>\n",
              "      <td>0</td>\n",
              "      <td>0</td>\n",
              "    </tr>\n",
              "    <tr>\n",
              "      <th>1</th>\n",
              "      <td>2</td>\n",
              "      <td>0</td>\n",
              "      <td>0</td>\n",
              "      <td>0</td>\n",
              "      <td>0</td>\n",
              "      <td>0</td>\n",
              "      <td>0</td>\n",
              "      <td>0</td>\n",
              "      <td>0</td>\n",
              "      <td>0</td>\n",
              "      <td>0</td>\n",
              "      <td>0</td>\n",
              "      <td>0</td>\n",
              "      <td>0</td>\n",
              "      <td>0</td>\n",
              "      <td>0</td>\n",
              "      <td>0</td>\n",
              "      <td>0</td>\n",
              "      <td>0</td>\n",
              "      <td>0</td>\n",
              "      <td>0</td>\n",
              "      <td>0</td>\n",
              "      <td>0</td>\n",
              "      <td>0</td>\n",
              "      <td>0</td>\n",
              "      <td>0</td>\n",
              "      <td>0</td>\n",
              "      <td>0</td>\n",
              "      <td>0</td>\n",
              "      <td>0</td>\n",
              "      <td>0</td>\n",
              "      <td>0</td>\n",
              "      <td>0</td>\n",
              "      <td>0</td>\n",
              "      <td>0</td>\n",
              "      <td>0</td>\n",
              "      <td>0</td>\n",
              "      <td>0</td>\n",
              "      <td>0</td>\n",
              "      <td>1</td>\n",
              "      <td>...</td>\n",
              "      <td>0</td>\n",
              "      <td>0</td>\n",
              "      <td>0</td>\n",
              "      <td>0</td>\n",
              "      <td>0</td>\n",
              "      <td>0</td>\n",
              "      <td>0</td>\n",
              "      <td>0</td>\n",
              "      <td>0</td>\n",
              "      <td>0</td>\n",
              "      <td>0</td>\n",
              "      <td>0</td>\n",
              "      <td>0</td>\n",
              "      <td>0</td>\n",
              "      <td>0</td>\n",
              "      <td>0</td>\n",
              "      <td>0</td>\n",
              "      <td>0</td>\n",
              "      <td>0</td>\n",
              "      <td>0</td>\n",
              "      <td>0</td>\n",
              "      <td>0</td>\n",
              "      <td>0</td>\n",
              "      <td>0</td>\n",
              "      <td>0</td>\n",
              "      <td>0</td>\n",
              "      <td>0</td>\n",
              "      <td>0</td>\n",
              "      <td>0</td>\n",
              "      <td>0</td>\n",
              "      <td>0</td>\n",
              "      <td>0</td>\n",
              "      <td>0</td>\n",
              "      <td>0</td>\n",
              "      <td>0</td>\n",
              "      <td>0</td>\n",
              "      <td>0</td>\n",
              "      <td>0</td>\n",
              "      <td>0</td>\n",
              "      <td>0</td>\n",
              "    </tr>\n",
              "    <tr>\n",
              "      <th>2</th>\n",
              "      <td>2</td>\n",
              "      <td>0</td>\n",
              "      <td>0</td>\n",
              "      <td>0</td>\n",
              "      <td>0</td>\n",
              "      <td>0</td>\n",
              "      <td>0</td>\n",
              "      <td>0</td>\n",
              "      <td>0</td>\n",
              "      <td>0</td>\n",
              "      <td>0</td>\n",
              "      <td>0</td>\n",
              "      <td>0</td>\n",
              "      <td>0</td>\n",
              "      <td>0</td>\n",
              "      <td>0</td>\n",
              "      <td>0</td>\n",
              "      <td>0</td>\n",
              "      <td>0</td>\n",
              "      <td>0</td>\n",
              "      <td>0</td>\n",
              "      <td>0</td>\n",
              "      <td>0</td>\n",
              "      <td>0</td>\n",
              "      <td>0</td>\n",
              "      <td>0</td>\n",
              "      <td>0</td>\n",
              "      <td>0</td>\n",
              "      <td>0</td>\n",
              "      <td>0</td>\n",
              "      <td>0</td>\n",
              "      <td>0</td>\n",
              "      <td>0</td>\n",
              "      <td>0</td>\n",
              "      <td>0</td>\n",
              "      <td>0</td>\n",
              "      <td>0</td>\n",
              "      <td>0</td>\n",
              "      <td>0</td>\n",
              "      <td>1</td>\n",
              "      <td>...</td>\n",
              "      <td>0</td>\n",
              "      <td>0</td>\n",
              "      <td>0</td>\n",
              "      <td>0</td>\n",
              "      <td>0</td>\n",
              "      <td>0</td>\n",
              "      <td>0</td>\n",
              "      <td>0</td>\n",
              "      <td>0</td>\n",
              "      <td>0</td>\n",
              "      <td>0</td>\n",
              "      <td>0</td>\n",
              "      <td>0</td>\n",
              "      <td>0</td>\n",
              "      <td>0</td>\n",
              "      <td>0</td>\n",
              "      <td>0</td>\n",
              "      <td>0</td>\n",
              "      <td>0</td>\n",
              "      <td>0</td>\n",
              "      <td>0</td>\n",
              "      <td>0</td>\n",
              "      <td>0</td>\n",
              "      <td>0</td>\n",
              "      <td>0</td>\n",
              "      <td>0</td>\n",
              "      <td>0</td>\n",
              "      <td>0</td>\n",
              "      <td>0</td>\n",
              "      <td>0</td>\n",
              "      <td>0</td>\n",
              "      <td>0</td>\n",
              "      <td>0</td>\n",
              "      <td>0</td>\n",
              "      <td>0</td>\n",
              "      <td>0</td>\n",
              "      <td>0</td>\n",
              "      <td>0</td>\n",
              "      <td>0</td>\n",
              "      <td>0</td>\n",
              "    </tr>\n",
              "    <tr>\n",
              "      <th>3</th>\n",
              "      <td>3</td>\n",
              "      <td>0</td>\n",
              "      <td>0</td>\n",
              "      <td>0</td>\n",
              "      <td>0</td>\n",
              "      <td>0</td>\n",
              "      <td>0</td>\n",
              "      <td>0</td>\n",
              "      <td>0</td>\n",
              "      <td>0</td>\n",
              "      <td>0</td>\n",
              "      <td>0</td>\n",
              "      <td>0</td>\n",
              "      <td>0</td>\n",
              "      <td>0</td>\n",
              "      <td>0</td>\n",
              "      <td>0</td>\n",
              "      <td>0</td>\n",
              "      <td>0</td>\n",
              "      <td>0</td>\n",
              "      <td>0</td>\n",
              "      <td>0</td>\n",
              "      <td>0</td>\n",
              "      <td>0</td>\n",
              "      <td>0</td>\n",
              "      <td>0</td>\n",
              "      <td>0</td>\n",
              "      <td>0</td>\n",
              "      <td>0</td>\n",
              "      <td>0</td>\n",
              "      <td>0</td>\n",
              "      <td>0</td>\n",
              "      <td>0</td>\n",
              "      <td>0</td>\n",
              "      <td>0</td>\n",
              "      <td>0</td>\n",
              "      <td>0</td>\n",
              "      <td>0</td>\n",
              "      <td>0</td>\n",
              "      <td>1</td>\n",
              "      <td>...</td>\n",
              "      <td>0</td>\n",
              "      <td>0</td>\n",
              "      <td>0</td>\n",
              "      <td>0</td>\n",
              "      <td>0</td>\n",
              "      <td>0</td>\n",
              "      <td>0</td>\n",
              "      <td>0</td>\n",
              "      <td>0</td>\n",
              "      <td>0</td>\n",
              "      <td>0</td>\n",
              "      <td>0</td>\n",
              "      <td>0</td>\n",
              "      <td>0</td>\n",
              "      <td>0</td>\n",
              "      <td>0</td>\n",
              "      <td>0</td>\n",
              "      <td>0</td>\n",
              "      <td>0</td>\n",
              "      <td>0</td>\n",
              "      <td>0</td>\n",
              "      <td>0</td>\n",
              "      <td>0</td>\n",
              "      <td>0</td>\n",
              "      <td>0</td>\n",
              "      <td>0</td>\n",
              "      <td>0</td>\n",
              "      <td>0</td>\n",
              "      <td>0</td>\n",
              "      <td>0</td>\n",
              "      <td>0</td>\n",
              "      <td>0</td>\n",
              "      <td>0</td>\n",
              "      <td>0</td>\n",
              "      <td>0</td>\n",
              "      <td>0</td>\n",
              "      <td>0</td>\n",
              "      <td>0</td>\n",
              "      <td>0</td>\n",
              "      <td>0</td>\n",
              "    </tr>\n",
              "    <tr>\n",
              "      <th>4</th>\n",
              "      <td>4</td>\n",
              "      <td>0</td>\n",
              "      <td>0</td>\n",
              "      <td>0</td>\n",
              "      <td>0</td>\n",
              "      <td>0</td>\n",
              "      <td>0</td>\n",
              "      <td>0</td>\n",
              "      <td>0</td>\n",
              "      <td>0</td>\n",
              "      <td>0</td>\n",
              "      <td>0</td>\n",
              "      <td>0</td>\n",
              "      <td>0</td>\n",
              "      <td>0</td>\n",
              "      <td>0</td>\n",
              "      <td>0</td>\n",
              "      <td>0</td>\n",
              "      <td>0</td>\n",
              "      <td>0</td>\n",
              "      <td>0</td>\n",
              "      <td>0</td>\n",
              "      <td>0</td>\n",
              "      <td>0</td>\n",
              "      <td>0</td>\n",
              "      <td>0</td>\n",
              "      <td>0</td>\n",
              "      <td>0</td>\n",
              "      <td>0</td>\n",
              "      <td>0</td>\n",
              "      <td>0</td>\n",
              "      <td>0</td>\n",
              "      <td>0</td>\n",
              "      <td>0</td>\n",
              "      <td>0</td>\n",
              "      <td>0</td>\n",
              "      <td>0</td>\n",
              "      <td>0</td>\n",
              "      <td>0</td>\n",
              "      <td>1</td>\n",
              "      <td>...</td>\n",
              "      <td>0</td>\n",
              "      <td>0</td>\n",
              "      <td>0</td>\n",
              "      <td>0</td>\n",
              "      <td>0</td>\n",
              "      <td>0</td>\n",
              "      <td>0</td>\n",
              "      <td>0</td>\n",
              "      <td>0</td>\n",
              "      <td>0</td>\n",
              "      <td>0</td>\n",
              "      <td>0</td>\n",
              "      <td>0</td>\n",
              "      <td>0</td>\n",
              "      <td>0</td>\n",
              "      <td>0</td>\n",
              "      <td>0</td>\n",
              "      <td>0</td>\n",
              "      <td>0</td>\n",
              "      <td>0</td>\n",
              "      <td>0</td>\n",
              "      <td>0</td>\n",
              "      <td>0</td>\n",
              "      <td>0</td>\n",
              "      <td>0</td>\n",
              "      <td>0</td>\n",
              "      <td>0</td>\n",
              "      <td>0</td>\n",
              "      <td>0</td>\n",
              "      <td>0</td>\n",
              "      <td>0</td>\n",
              "      <td>0</td>\n",
              "      <td>0</td>\n",
              "      <td>0</td>\n",
              "      <td>0</td>\n",
              "      <td>0</td>\n",
              "      <td>0</td>\n",
              "      <td>0</td>\n",
              "      <td>0</td>\n",
              "      <td>0</td>\n",
              "    </tr>\n",
              "  </tbody>\n",
              "</table>\n",
              "<p>5 rows × 3259 columns</p>\n",
              "</div>"
            ],
            "text/plain": [
              "   class  ACVR1  AGO2  ...  ZC3H7B-BCOR Fusion  ZNF198-FGFR1 Fusion  p61BRAF\n",
              "0      1      0     0  ...                   0                    0        0\n",
              "1      2      0     0  ...                   0                    0        0\n",
              "2      2      0     0  ...                   0                    0        0\n",
              "3      3      0     0  ...                   0                    0        0\n",
              "4      4      0     0  ...                   0                    0        0\n",
              "\n",
              "[5 rows x 3259 columns]"
            ]
          },
          "metadata": {
            "tags": []
          },
          "execution_count": 51
        }
      ]
    },
    {
      "cell_type": "code",
      "metadata": {
        "id": "SJIOE8IoYw-P"
      },
      "source": [
        "train_x, test_x, train_y, test_y = model_selection.train_test_split(df_enc2.drop(\"class\",axis=1),\n",
        "                                                                    df_enc2[\"class\"], \n",
        "                                                                    random_state = 7,\n",
        "                                                                    stratify=df_merge[\"class\"],\n",
        "                                                                    test_size=0.2)"
      ],
      "execution_count": 52,
      "outputs": []
    },
    {
      "cell_type": "code",
      "metadata": {
        "colab": {
          "base_uri": "https://localhost:8080/"
        },
        "id": "scnj4mO2YzWs",
        "outputId": "e2e4beb1-e0f3-4568-8805-089b16c4a4cb"
      },
      "source": [
        "loj = LogisticRegression()\n",
        "loj_model = loj.fit(train_x, train_y)\n",
        "accuracy = model_selection.cross_val_score(loj_model, \n",
        "                                           test_x, \n",
        "                                           test_y, \n",
        "                                           cv = 10).mean()\n",
        "\n",
        "print(\"Count Vectors Doğruluk Oranı:\", accuracy)"
      ],
      "execution_count": 53,
      "outputs": [
        {
          "output_type": "stream",
          "text": [
            "Count Vectors Doğruluk Oranı: 0.5428539122568973\n"
          ],
          "name": "stdout"
        }
      ]
    },
    {
      "cell_type": "code",
      "metadata": {
        "id": "RODeqo6JY087"
      },
      "source": [
        "tf_idf_word_vectorizer = TfidfVectorizer()\n",
        "text_enc = tf_idf_word_vectorizer.fit_transform(df_merge.text)"
      ],
      "execution_count": 54,
      "outputs": []
    },
    {
      "cell_type": "code",
      "metadata": {
        "id": "89Uhi1pvZLyO"
      },
      "source": [
        "text_enc_df = pd.DataFrame(text_enc.toarray())"
      ],
      "execution_count": 55,
      "outputs": []
    },
    {
      "cell_type": "code",
      "metadata": {
        "colab": {
          "base_uri": "https://localhost:8080/",
          "height": 249
        },
        "id": "X8BtunUiZNjv",
        "outputId": "70ef518a-9e5e-44c6-adaa-c8fd74182581"
      },
      "source": [
        "df_enc3 = pd.concat([df_enc2,text_enc_df],axis=1)\n",
        "df_enc3.head()"
      ],
      "execution_count": 56,
      "outputs": [
        {
          "output_type": "execute_result",
          "data": {
            "text/html": [
              "<div>\n",
              "<style scoped>\n",
              "    .dataframe tbody tr th:only-of-type {\n",
              "        vertical-align: middle;\n",
              "    }\n",
              "\n",
              "    .dataframe tbody tr th {\n",
              "        vertical-align: top;\n",
              "    }\n",
              "\n",
              "    .dataframe thead th {\n",
              "        text-align: right;\n",
              "    }\n",
              "</style>\n",
              "<table border=\"1\" class=\"dataframe\">\n",
              "  <thead>\n",
              "    <tr style=\"text-align: right;\">\n",
              "      <th></th>\n",
              "      <th>class</th>\n",
              "      <th>ACVR1</th>\n",
              "      <th>AGO2</th>\n",
              "      <th>AKT1</th>\n",
              "      <th>AKT2</th>\n",
              "      <th>AKT3</th>\n",
              "      <th>ALK</th>\n",
              "      <th>APC</th>\n",
              "      <th>AR</th>\n",
              "      <th>ARAF</th>\n",
              "      <th>ARID1A</th>\n",
              "      <th>ARID1B</th>\n",
              "      <th>ARID2</th>\n",
              "      <th>ARID5B</th>\n",
              "      <th>ASXL1</th>\n",
              "      <th>ASXL2</th>\n",
              "      <th>ATM</th>\n",
              "      <th>ATR</th>\n",
              "      <th>ATRX</th>\n",
              "      <th>AURKA</th>\n",
              "      <th>AURKB</th>\n",
              "      <th>AXIN1</th>\n",
              "      <th>AXL</th>\n",
              "      <th>B2M</th>\n",
              "      <th>BAP1</th>\n",
              "      <th>BARD1</th>\n",
              "      <th>BCL10</th>\n",
              "      <th>BCL2</th>\n",
              "      <th>BCL2L11</th>\n",
              "      <th>BCOR</th>\n",
              "      <th>BRAF</th>\n",
              "      <th>BRCA1</th>\n",
              "      <th>BRCA2</th>\n",
              "      <th>BRD4</th>\n",
              "      <th>BRIP1</th>\n",
              "      <th>BTK</th>\n",
              "      <th>CARD11</th>\n",
              "      <th>CARM1</th>\n",
              "      <th>CASP8</th>\n",
              "      <th>CBL</th>\n",
              "      <th>...</th>\n",
              "      <th>44388</th>\n",
              "      <th>44389</th>\n",
              "      <th>44390</th>\n",
              "      <th>44391</th>\n",
              "      <th>44392</th>\n",
              "      <th>44393</th>\n",
              "      <th>44394</th>\n",
              "      <th>44395</th>\n",
              "      <th>44396</th>\n",
              "      <th>44397</th>\n",
              "      <th>44398</th>\n",
              "      <th>44399</th>\n",
              "      <th>44400</th>\n",
              "      <th>44401</th>\n",
              "      <th>44402</th>\n",
              "      <th>44403</th>\n",
              "      <th>44404</th>\n",
              "      <th>44405</th>\n",
              "      <th>44406</th>\n",
              "      <th>44407</th>\n",
              "      <th>44408</th>\n",
              "      <th>44409</th>\n",
              "      <th>44410</th>\n",
              "      <th>44411</th>\n",
              "      <th>44412</th>\n",
              "      <th>44413</th>\n",
              "      <th>44414</th>\n",
              "      <th>44415</th>\n",
              "      <th>44416</th>\n",
              "      <th>44417</th>\n",
              "      <th>44418</th>\n",
              "      <th>44419</th>\n",
              "      <th>44420</th>\n",
              "      <th>44421</th>\n",
              "      <th>44422</th>\n",
              "      <th>44423</th>\n",
              "      <th>44424</th>\n",
              "      <th>44425</th>\n",
              "      <th>44426</th>\n",
              "      <th>44427</th>\n",
              "    </tr>\n",
              "  </thead>\n",
              "  <tbody>\n",
              "    <tr>\n",
              "      <th>0</th>\n",
              "      <td>1</td>\n",
              "      <td>0</td>\n",
              "      <td>0</td>\n",
              "      <td>0</td>\n",
              "      <td>0</td>\n",
              "      <td>0</td>\n",
              "      <td>0</td>\n",
              "      <td>0</td>\n",
              "      <td>0</td>\n",
              "      <td>0</td>\n",
              "      <td>0</td>\n",
              "      <td>0</td>\n",
              "      <td>0</td>\n",
              "      <td>0</td>\n",
              "      <td>0</td>\n",
              "      <td>0</td>\n",
              "      <td>0</td>\n",
              "      <td>0</td>\n",
              "      <td>0</td>\n",
              "      <td>0</td>\n",
              "      <td>0</td>\n",
              "      <td>0</td>\n",
              "      <td>0</td>\n",
              "      <td>0</td>\n",
              "      <td>0</td>\n",
              "      <td>0</td>\n",
              "      <td>0</td>\n",
              "      <td>0</td>\n",
              "      <td>0</td>\n",
              "      <td>0</td>\n",
              "      <td>0</td>\n",
              "      <td>0</td>\n",
              "      <td>0</td>\n",
              "      <td>0</td>\n",
              "      <td>0</td>\n",
              "      <td>0</td>\n",
              "      <td>0</td>\n",
              "      <td>0</td>\n",
              "      <td>0</td>\n",
              "      <td>0</td>\n",
              "      <td>...</td>\n",
              "      <td>0.0</td>\n",
              "      <td>0.0</td>\n",
              "      <td>0.0</td>\n",
              "      <td>0.0</td>\n",
              "      <td>0.0</td>\n",
              "      <td>0.0</td>\n",
              "      <td>0.0</td>\n",
              "      <td>0.0</td>\n",
              "      <td>0.0</td>\n",
              "      <td>0.006945</td>\n",
              "      <td>0.0</td>\n",
              "      <td>0.0</td>\n",
              "      <td>0.015367</td>\n",
              "      <td>0.0</td>\n",
              "      <td>0.0</td>\n",
              "      <td>0.000000</td>\n",
              "      <td>0.0</td>\n",
              "      <td>0.0</td>\n",
              "      <td>0.0</td>\n",
              "      <td>0.020115</td>\n",
              "      <td>0.0</td>\n",
              "      <td>0.0</td>\n",
              "      <td>0.0</td>\n",
              "      <td>0.0</td>\n",
              "      <td>0.021385</td>\n",
              "      <td>0.0</td>\n",
              "      <td>0.0</td>\n",
              "      <td>0.0</td>\n",
              "      <td>0.0</td>\n",
              "      <td>0.0</td>\n",
              "      <td>0.0</td>\n",
              "      <td>0.0</td>\n",
              "      <td>0.0</td>\n",
              "      <td>0.0</td>\n",
              "      <td>0.0</td>\n",
              "      <td>0.0</td>\n",
              "      <td>0.0</td>\n",
              "      <td>0.0</td>\n",
              "      <td>0.0</td>\n",
              "      <td>0.0</td>\n",
              "    </tr>\n",
              "    <tr>\n",
              "      <th>1</th>\n",
              "      <td>2</td>\n",
              "      <td>0</td>\n",
              "      <td>0</td>\n",
              "      <td>0</td>\n",
              "      <td>0</td>\n",
              "      <td>0</td>\n",
              "      <td>0</td>\n",
              "      <td>0</td>\n",
              "      <td>0</td>\n",
              "      <td>0</td>\n",
              "      <td>0</td>\n",
              "      <td>0</td>\n",
              "      <td>0</td>\n",
              "      <td>0</td>\n",
              "      <td>0</td>\n",
              "      <td>0</td>\n",
              "      <td>0</td>\n",
              "      <td>0</td>\n",
              "      <td>0</td>\n",
              "      <td>0</td>\n",
              "      <td>0</td>\n",
              "      <td>0</td>\n",
              "      <td>0</td>\n",
              "      <td>0</td>\n",
              "      <td>0</td>\n",
              "      <td>0</td>\n",
              "      <td>0</td>\n",
              "      <td>0</td>\n",
              "      <td>0</td>\n",
              "      <td>0</td>\n",
              "      <td>0</td>\n",
              "      <td>0</td>\n",
              "      <td>0</td>\n",
              "      <td>0</td>\n",
              "      <td>0</td>\n",
              "      <td>0</td>\n",
              "      <td>0</td>\n",
              "      <td>0</td>\n",
              "      <td>0</td>\n",
              "      <td>1</td>\n",
              "      <td>...</td>\n",
              "      <td>0.0</td>\n",
              "      <td>0.0</td>\n",
              "      <td>0.0</td>\n",
              "      <td>0.0</td>\n",
              "      <td>0.0</td>\n",
              "      <td>0.0</td>\n",
              "      <td>0.0</td>\n",
              "      <td>0.0</td>\n",
              "      <td>0.0</td>\n",
              "      <td>0.000000</td>\n",
              "      <td>0.0</td>\n",
              "      <td>0.0</td>\n",
              "      <td>0.000000</td>\n",
              "      <td>0.0</td>\n",
              "      <td>0.0</td>\n",
              "      <td>0.000000</td>\n",
              "      <td>0.0</td>\n",
              "      <td>0.0</td>\n",
              "      <td>0.0</td>\n",
              "      <td>0.000000</td>\n",
              "      <td>0.0</td>\n",
              "      <td>0.0</td>\n",
              "      <td>0.0</td>\n",
              "      <td>0.0</td>\n",
              "      <td>0.000000</td>\n",
              "      <td>0.0</td>\n",
              "      <td>0.0</td>\n",
              "      <td>0.0</td>\n",
              "      <td>0.0</td>\n",
              "      <td>0.0</td>\n",
              "      <td>0.0</td>\n",
              "      <td>0.0</td>\n",
              "      <td>0.0</td>\n",
              "      <td>0.0</td>\n",
              "      <td>0.0</td>\n",
              "      <td>0.0</td>\n",
              "      <td>0.0</td>\n",
              "      <td>0.0</td>\n",
              "      <td>0.0</td>\n",
              "      <td>0.0</td>\n",
              "    </tr>\n",
              "    <tr>\n",
              "      <th>2</th>\n",
              "      <td>2</td>\n",
              "      <td>0</td>\n",
              "      <td>0</td>\n",
              "      <td>0</td>\n",
              "      <td>0</td>\n",
              "      <td>0</td>\n",
              "      <td>0</td>\n",
              "      <td>0</td>\n",
              "      <td>0</td>\n",
              "      <td>0</td>\n",
              "      <td>0</td>\n",
              "      <td>0</td>\n",
              "      <td>0</td>\n",
              "      <td>0</td>\n",
              "      <td>0</td>\n",
              "      <td>0</td>\n",
              "      <td>0</td>\n",
              "      <td>0</td>\n",
              "      <td>0</td>\n",
              "      <td>0</td>\n",
              "      <td>0</td>\n",
              "      <td>0</td>\n",
              "      <td>0</td>\n",
              "      <td>0</td>\n",
              "      <td>0</td>\n",
              "      <td>0</td>\n",
              "      <td>0</td>\n",
              "      <td>0</td>\n",
              "      <td>0</td>\n",
              "      <td>0</td>\n",
              "      <td>0</td>\n",
              "      <td>0</td>\n",
              "      <td>0</td>\n",
              "      <td>0</td>\n",
              "      <td>0</td>\n",
              "      <td>0</td>\n",
              "      <td>0</td>\n",
              "      <td>0</td>\n",
              "      <td>0</td>\n",
              "      <td>1</td>\n",
              "      <td>...</td>\n",
              "      <td>0.0</td>\n",
              "      <td>0.0</td>\n",
              "      <td>0.0</td>\n",
              "      <td>0.0</td>\n",
              "      <td>0.0</td>\n",
              "      <td>0.0</td>\n",
              "      <td>0.0</td>\n",
              "      <td>0.0</td>\n",
              "      <td>0.0</td>\n",
              "      <td>0.000000</td>\n",
              "      <td>0.0</td>\n",
              "      <td>0.0</td>\n",
              "      <td>0.000000</td>\n",
              "      <td>0.0</td>\n",
              "      <td>0.0</td>\n",
              "      <td>0.000000</td>\n",
              "      <td>0.0</td>\n",
              "      <td>0.0</td>\n",
              "      <td>0.0</td>\n",
              "      <td>0.000000</td>\n",
              "      <td>0.0</td>\n",
              "      <td>0.0</td>\n",
              "      <td>0.0</td>\n",
              "      <td>0.0</td>\n",
              "      <td>0.000000</td>\n",
              "      <td>0.0</td>\n",
              "      <td>0.0</td>\n",
              "      <td>0.0</td>\n",
              "      <td>0.0</td>\n",
              "      <td>0.0</td>\n",
              "      <td>0.0</td>\n",
              "      <td>0.0</td>\n",
              "      <td>0.0</td>\n",
              "      <td>0.0</td>\n",
              "      <td>0.0</td>\n",
              "      <td>0.0</td>\n",
              "      <td>0.0</td>\n",
              "      <td>0.0</td>\n",
              "      <td>0.0</td>\n",
              "      <td>0.0</td>\n",
              "    </tr>\n",
              "    <tr>\n",
              "      <th>3</th>\n",
              "      <td>3</td>\n",
              "      <td>0</td>\n",
              "      <td>0</td>\n",
              "      <td>0</td>\n",
              "      <td>0</td>\n",
              "      <td>0</td>\n",
              "      <td>0</td>\n",
              "      <td>0</td>\n",
              "      <td>0</td>\n",
              "      <td>0</td>\n",
              "      <td>0</td>\n",
              "      <td>0</td>\n",
              "      <td>0</td>\n",
              "      <td>0</td>\n",
              "      <td>0</td>\n",
              "      <td>0</td>\n",
              "      <td>0</td>\n",
              "      <td>0</td>\n",
              "      <td>0</td>\n",
              "      <td>0</td>\n",
              "      <td>0</td>\n",
              "      <td>0</td>\n",
              "      <td>0</td>\n",
              "      <td>0</td>\n",
              "      <td>0</td>\n",
              "      <td>0</td>\n",
              "      <td>0</td>\n",
              "      <td>0</td>\n",
              "      <td>0</td>\n",
              "      <td>0</td>\n",
              "      <td>0</td>\n",
              "      <td>0</td>\n",
              "      <td>0</td>\n",
              "      <td>0</td>\n",
              "      <td>0</td>\n",
              "      <td>0</td>\n",
              "      <td>0</td>\n",
              "      <td>0</td>\n",
              "      <td>0</td>\n",
              "      <td>1</td>\n",
              "      <td>...</td>\n",
              "      <td>0.0</td>\n",
              "      <td>0.0</td>\n",
              "      <td>0.0</td>\n",
              "      <td>0.0</td>\n",
              "      <td>0.0</td>\n",
              "      <td>0.0</td>\n",
              "      <td>0.0</td>\n",
              "      <td>0.0</td>\n",
              "      <td>0.0</td>\n",
              "      <td>0.000000</td>\n",
              "      <td>0.0</td>\n",
              "      <td>0.0</td>\n",
              "      <td>0.008364</td>\n",
              "      <td>0.0</td>\n",
              "      <td>0.0</td>\n",
              "      <td>0.000000</td>\n",
              "      <td>0.0</td>\n",
              "      <td>0.0</td>\n",
              "      <td>0.0</td>\n",
              "      <td>0.004379</td>\n",
              "      <td>0.0</td>\n",
              "      <td>0.0</td>\n",
              "      <td>0.0</td>\n",
              "      <td>0.0</td>\n",
              "      <td>0.000000</td>\n",
              "      <td>0.0</td>\n",
              "      <td>0.0</td>\n",
              "      <td>0.0</td>\n",
              "      <td>0.0</td>\n",
              "      <td>0.0</td>\n",
              "      <td>0.0</td>\n",
              "      <td>0.0</td>\n",
              "      <td>0.0</td>\n",
              "      <td>0.0</td>\n",
              "      <td>0.0</td>\n",
              "      <td>0.0</td>\n",
              "      <td>0.0</td>\n",
              "      <td>0.0</td>\n",
              "      <td>0.0</td>\n",
              "      <td>0.0</td>\n",
              "    </tr>\n",
              "    <tr>\n",
              "      <th>4</th>\n",
              "      <td>4</td>\n",
              "      <td>0</td>\n",
              "      <td>0</td>\n",
              "      <td>0</td>\n",
              "      <td>0</td>\n",
              "      <td>0</td>\n",
              "      <td>0</td>\n",
              "      <td>0</td>\n",
              "      <td>0</td>\n",
              "      <td>0</td>\n",
              "      <td>0</td>\n",
              "      <td>0</td>\n",
              "      <td>0</td>\n",
              "      <td>0</td>\n",
              "      <td>0</td>\n",
              "      <td>0</td>\n",
              "      <td>0</td>\n",
              "      <td>0</td>\n",
              "      <td>0</td>\n",
              "      <td>0</td>\n",
              "      <td>0</td>\n",
              "      <td>0</td>\n",
              "      <td>0</td>\n",
              "      <td>0</td>\n",
              "      <td>0</td>\n",
              "      <td>0</td>\n",
              "      <td>0</td>\n",
              "      <td>0</td>\n",
              "      <td>0</td>\n",
              "      <td>0</td>\n",
              "      <td>0</td>\n",
              "      <td>0</td>\n",
              "      <td>0</td>\n",
              "      <td>0</td>\n",
              "      <td>0</td>\n",
              "      <td>0</td>\n",
              "      <td>0</td>\n",
              "      <td>0</td>\n",
              "      <td>0</td>\n",
              "      <td>1</td>\n",
              "      <td>...</td>\n",
              "      <td>0.0</td>\n",
              "      <td>0.0</td>\n",
              "      <td>0.0</td>\n",
              "      <td>0.0</td>\n",
              "      <td>0.0</td>\n",
              "      <td>0.0</td>\n",
              "      <td>0.0</td>\n",
              "      <td>0.0</td>\n",
              "      <td>0.0</td>\n",
              "      <td>0.000000</td>\n",
              "      <td>0.0</td>\n",
              "      <td>0.0</td>\n",
              "      <td>0.007398</td>\n",
              "      <td>0.0</td>\n",
              "      <td>0.0</td>\n",
              "      <td>0.003837</td>\n",
              "      <td>0.0</td>\n",
              "      <td>0.0</td>\n",
              "      <td>0.0</td>\n",
              "      <td>0.000000</td>\n",
              "      <td>0.0</td>\n",
              "      <td>0.0</td>\n",
              "      <td>0.0</td>\n",
              "      <td>0.0</td>\n",
              "      <td>0.003432</td>\n",
              "      <td>0.0</td>\n",
              "      <td>0.0</td>\n",
              "      <td>0.0</td>\n",
              "      <td>0.0</td>\n",
              "      <td>0.0</td>\n",
              "      <td>0.0</td>\n",
              "      <td>0.0</td>\n",
              "      <td>0.0</td>\n",
              "      <td>0.0</td>\n",
              "      <td>0.0</td>\n",
              "      <td>0.0</td>\n",
              "      <td>0.0</td>\n",
              "      <td>0.0</td>\n",
              "      <td>0.0</td>\n",
              "      <td>0.0</td>\n",
              "    </tr>\n",
              "  </tbody>\n",
              "</table>\n",
              "<p>5 rows × 47687 columns</p>\n",
              "</div>"
            ],
            "text/plain": [
              "   class  ACVR1  AGO2  AKT1  AKT2  ...  44423  44424  44425  44426  44427\n",
              "0      1      0     0     0     0  ...    0.0    0.0    0.0    0.0    0.0\n",
              "1      2      0     0     0     0  ...    0.0    0.0    0.0    0.0    0.0\n",
              "2      2      0     0     0     0  ...    0.0    0.0    0.0    0.0    0.0\n",
              "3      3      0     0     0     0  ...    0.0    0.0    0.0    0.0    0.0\n",
              "4      4      0     0     0     0  ...    0.0    0.0    0.0    0.0    0.0\n",
              "\n",
              "[5 rows x 47687 columns]"
            ]
          },
          "metadata": {
            "tags": []
          },
          "execution_count": 56
        }
      ]
    }
  ]
}